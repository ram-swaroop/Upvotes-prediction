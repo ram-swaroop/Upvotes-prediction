{
  "nbformat": 4,
  "nbformat_minor": 0,
  "metadata": {
    "colab": {
      "name": "Upvote-prediction.ipynb",
      "provenance": [],
      "authorship_tag": "ABX9TyPSOi/6qFmXkEnYxNHOoKeN",
      "include_colab_link": true
    },
    "kernelspec": {
      "name": "python3",
      "display_name": "Python 3"
    },
    "accelerator": "GPU"
  },
  "cells": [
    {
      "cell_type": "markdown",
      "metadata": {
        "id": "view-in-github",
        "colab_type": "text"
      },
      "source": [
        "<a href=\"https://colab.research.google.com/github/ramswaroopbhakar14/Upvotes-prediction/blob/master/Upvote_prediction.ipynb\" target=\"_parent\"><img src=\"https://colab.research.google.com/assets/colab-badge.svg\" alt=\"Open In Colab\"/></a>"
      ]
    },
    {
      "cell_type": "code",
      "metadata": {
        "id": "TwY_dAmW2SD_",
        "colab_type": "code",
        "outputId": "a5e2ad6a-7b23-4fcc-ad2f-991b83b5e34b",
        "colab": {
          "base_uri": "https://localhost:8080/",
          "height": 34
        }
      },
      "source": [
        "! git clone https://github.com/ramswaroopbhakar14/Upvotes-prediction.git"
      ],
      "execution_count": 422,
      "outputs": [
        {
          "output_type": "stream",
          "text": [
            "fatal: destination path 'Upvotes-prediction' already exists and is not an empty directory.\n"
          ],
          "name": "stdout"
        }
      ]
    },
    {
      "cell_type": "code",
      "metadata": {
        "id": "1uADx6GP2aQq",
        "colab_type": "code",
        "outputId": "971f3636-c285-4096-bec5-659f6bcd5291",
        "colab": {
          "base_uri": "https://localhost:8080/",
          "height": 34
        }
      },
      "source": [
        "%cd /content/Upvotes-prediction/data"
      ],
      "execution_count": 423,
      "outputs": [
        {
          "output_type": "stream",
          "text": [
            "/content/Upvotes-prediction/data\n"
          ],
          "name": "stdout"
        }
      ]
    },
    {
      "cell_type": "code",
      "metadata": {
        "id": "Nw46xyVN227P",
        "colab_type": "code",
        "colab": {}
      },
      "source": [
        "import pandas as pd\n",
        "train_data = pd.read_csv('train_data.csv')\n",
        "test_data = pd.read_csv('test_data.csv')\n",
        "\n",
        "\"creating copy of both train & test for further uses\"\n",
        "train_data1 = train_data.copy()\n",
        "test_data1 = test_data.copy()"
      ],
      "execution_count": 0,
      "outputs": []
    },
    {
      "cell_type": "code",
      "metadata": {
        "id": "wR_U690f3XQ6",
        "colab_type": "code",
        "outputId": "8ef80f6e-0b2f-45db-810e-cbf379d8aeb5",
        "colab": {
          "base_uri": "https://localhost:8080/",
          "height": 84
        }
      },
      "source": [
        "print(\"train columns:\\n\",train_data.columns)\n",
        "print(\"test columns:\\n\",test_data.columns)"
      ],
      "execution_count": 425,
      "outputs": [
        {
          "output_type": "stream",
          "text": [
            "train columns:\n",
            " Index(['ID', 'Tag', 'Reputation', 'Answers', 'Username', 'Views', 'Upvotes'], dtype='object')\n",
            "test columns:\n",
            " Index(['ID', 'Tag', 'Reputation', 'Answers', 'Username', 'Views'], dtype='object')\n"
          ],
          "name": "stdout"
        }
      ]
    },
    {
      "cell_type": "markdown",
      "metadata": {
        "id": "9xGxzoCpZDbN",
        "colab_type": "text"
      },
      "source": [
        "Print train & test head data"
      ]
    },
    {
      "cell_type": "code",
      "metadata": {
        "id": "Z1zaP2fGZGy_",
        "colab_type": "code",
        "outputId": "3ad8d1d1-5536-4df8-8ea8-b8eaffb19de8",
        "colab": {
          "base_uri": "https://localhost:8080/",
          "height": 252
        }
      },
      "source": [
        "print(\"train sample:\\n\",train_data.head())\n",
        "print(\"test sample:\\n\",test_data.head())"
      ],
      "execution_count": 426,
      "outputs": [
        {
          "output_type": "stream",
          "text": [
            "train sample:\n",
            "        ID Tag  Reputation  Answers  Username    Views  Upvotes\n",
            "0   52664   a      3942.0      2.0    155623   7855.0     42.0\n",
            "1  327662   a     26046.0     12.0     21781  55801.0   1175.0\n",
            "2  468453   c      1358.0      4.0     56177   8067.0     60.0\n",
            "3   96996   a       264.0      3.0    168793  27064.0      9.0\n",
            "4  131465   c      4271.0      4.0    112223  13986.0     83.0\n",
            "test sample:\n",
            "        ID Tag  Reputation  Answers  Username    Views\n",
            "0  366953   a      5645.0      3.0     50652  33200.0\n",
            "1   71864   c     24511.0      6.0     37685   2730.0\n",
            "2  141692   i       927.0      1.0    135293  21167.0\n",
            "3  316833   i        21.0      6.0    166998  18528.0\n",
            "4  440445   i      4475.0     10.0     53504  57240.0\n"
          ],
          "name": "stdout"
        }
      ]
    },
    {
      "cell_type": "markdown",
      "metadata": {
        "id": "PZFRxbbTZf2i",
        "colab_type": "text"
      },
      "source": [
        "dropping non-important features"
      ]
    },
    {
      "cell_type": "code",
      "metadata": {
        "id": "FTiHlbFWZitr",
        "colab_type": "code",
        "colab": {}
      },
      "source": [
        "train_data = train_data1.drop(columns=['ID','Username'])\n",
        "test_data = test_data1.drop(columns=['ID','Username'])"
      ],
      "execution_count": 0,
      "outputs": []
    },
    {
      "cell_type": "code",
      "metadata": {
        "id": "CmTxqz_S3btn",
        "colab_type": "code",
        "outputId": "12f118bc-0d06-4d06-984b-cd19922ef1e5",
        "colab": {
          "base_uri": "https://localhost:8080/",
          "height": 994
        }
      },
      "source": [
        "import seaborn as sns\n",
        "import matplotlib.pyplot as plt\n",
        "plt.figure(figsize=[8,6])\n",
        "plt.title(\"corr-heat-map for train data\")\n",
        "\"find correlation matrix\"\n",
        "train_corr = train_data.corr()\n",
        "print(\"Train-Corr-Matrix:\\n\", train_corr)\n",
        "\"generating heatmap using train_corr\"\n",
        "sns.heatmap(train_corr) # we don't see any var-pair haivng > 0.5 correlation, hence we'll be directly going for model building\n",
        "\n",
        "plt.figure(figsize=[8,6])\n",
        "plt.title(\"\\n\\ncorr-heat-map for test data\")\n",
        "\"find correlation matrix for test data\"\n",
        "test_corr = test_data.corr()\n",
        "print(\"Test-Corr-Matrix:\\n\", test_corr)\n",
        "\"generating heatmap using test_corr\"\n",
        "sns.heatmap(test_corr) "
      ],
      "execution_count": 428,
      "outputs": [
        {
          "output_type": "stream",
          "text": [
            "Train-Corr-Matrix:\n",
            "             Reputation   Answers     Views   Upvotes\n",
            "Reputation    1.000000  0.066504  0.036455  0.266710\n",
            "Answers       0.066504  1.000000  0.498642  0.202033\n",
            "Views         0.036455  0.498642  1.000000  0.437336\n",
            "Upvotes       0.266710  0.202033  0.437336  1.000000\n",
            "Test-Corr-Matrix:\n",
            "             Reputation   Answers     Views\n",
            "Reputation    1.000000  0.072639  0.038193\n",
            "Answers       0.072639  1.000000  0.517076\n",
            "Views         0.038193  0.517076  1.000000\n"
          ],
          "name": "stdout"
        },
        {
          "output_type": "execute_result",
          "data": {
            "text/plain": [
              "<matplotlib.axes._subplots.AxesSubplot at 0x7fa2deed2f28>"
            ]
          },
          "metadata": {
            "tags": []
          },
          "execution_count": 428
        },
        {
          "output_type": "display_data",
          "data": {
            "image/png": "[encoded data removed]",
            "text/plain": [
              "<Figure size 576x432 with 2 Axes>"
            ]
          },
          "metadata": {
            "tags": [],
            "needs_background": "light"
          }
        },
        {
          "output_type": "display_data",
          "data": {
            "image/png": "[encoded data removed]",
            "text/plain": [
              "<Figure size 576x432 with 2 Axes>"
            ]
          },
          "metadata": {
            "tags": [],
            "needs_background": "light"
          }
        }
      ]
    },
    {
      "cell_type": "markdown",
      "metadata": {
        "id": "MgBZ5-47ccr_",
        "colab_type": "text"
      },
      "source": [
        "plotting each of feature w.r.t. **Upvotes**\n"
      ]
    },
    {
      "cell_type": "code",
      "metadata": {
        "id": "Tdn3Tt6_dbjA",
        "colab_type": "code",
        "colab": {
          "base_uri": "https://localhost:8080/",
          "height": 1000
        },
        "outputId": "f69c1bd9-8d77-4ba3-e1e2-48803bb4e37d"
      },
      "source": [
        "plt.figure(figsize=[16,10])\n",
        "plt.plot(train_data['Reputation'], train_data['Upvotes'],'o')\n",
        "plt.xlabel('Reputation', fontweight='bold', fontsize=13)\n",
        "plt.ylabel('Upvotes', fontweight='bold', fontsize=13)\n",
        "\n",
        "plt.figure(figsize=[16,10])\n",
        "plt.plot(train_data['Views'], train_data['Upvotes'],'o')\n",
        "plt.xlabel('Views', fontweight='bold', fontsize=13)\n",
        "plt.ylabel('Upvotes', fontweight='bold', fontsize=13)\n",
        "\n",
        "plt.figure(figsize=[16,10])\n",
        "plt.plot(train_data['Answers'], train_data['Upvotes'],'o')\n",
        "plt.xlabel('Answers', fontweight='bold', fontsize=13)\n",
        "plt.ylabel('Upvotes', fontweight='bold', fontsize=13)"
      ],
      "execution_count": 429,
      "outputs": [
        {
          "output_type": "execute_result",
          "data": {
            "text/plain": [
              "Text(0, 0.5, 'Upvotes')"
            ]
          },
          "metadata": {
            "tags": []
          },
          "execution_count": 429
        },
        {
          "output_type": "display_data",
          "data": {
            "image/png": "[encoded data removed]",
            "text/plain": [
              "<Figure size 1152x720 with 1 Axes>"
            ]
          },
          "metadata": {
            "tags": [],
            "needs_background": "light"
          }
        },
        {
          "output_type": "display_data",
          "data": {
            "image/png": "[encoded data removed]",
            "text/plain": [
              "<Figure size 1152x720 with 1 Axes>"
            ]
          },
          "metadata": {
            "tags": [],
            "needs_background": "light"
          }
        },
        {
          "output_type": "display_data",
          "data": {
            "image/png": "[encoded data removed]",
            "text/plain": [
              "<Figure size 1152x720 with 1 Axes>"
            ]
          },
          "metadata": {
            "tags": [],
            "needs_background": "light"
          }
        }
      ]
    },
    {
      "cell_type": "markdown",
      "metadata": {
        "id": "XX5ohJqyalfK",
        "colab_type": "text"
      },
      "source": [
        "Converting cartegorical to numerical features ('Tag')"
      ]
    },
    {
      "cell_type": "code",
      "metadata": {
        "id": "udbcDvsjaqwq",
        "colab_type": "code",
        "colab": {}
      },
      "source": [
        "\"Dealing with categorical features in a regression problem\"\n",
        "\n",
        "\"First approach: to convert each category as sdummy variables\"\n",
        "#train_data = pd.concat([train_data.loc[:, train_data.columns!='Tag'], pd.get_dummies(train_data[['Tag']])], axis=1)\n",
        "#test_data = pd.concat([test_data.loc[:, test_data.columns!='Tag'], pd.get_dummies(test_data[['Tag']])], axis=1)\n",
        "\n",
        "\"Second approach: to convert each category as a numerical label\"\n",
        "from sklearn.preprocessing import LabelEncoder\n",
        "le = LabelEncoder()\n",
        "le.fit(train_data['Tag']) # fitting label encoder for 'Tag'\n",
        "train_data['Tag'] = le.transform(train_data['Tag']) # label transforming 'Tag' for train_data\n",
        "test_data['Tag'] = le.transform(test_data['Tag']) # label transforming 'Tag' for test_data"
      ],
      "execution_count": 0,
      "outputs": []
    },
    {
      "cell_type": "code",
      "metadata": {
        "id": "GNQV1D_abPHG",
        "colab_type": "code",
        "outputId": "c40f0370-fad5-4910-e4be-06f51edece73",
        "colab": {
          "base_uri": "https://localhost:8080/",
          "height": 84
        }
      },
      "source": [
        "print(\"train columns:\\n\",train_data.columns)\n",
        "print(\"test columns:\\n\",test_data.columns)"
      ],
      "execution_count": 431,
      "outputs": [
        {
          "output_type": "stream",
          "text": [
            "train columns:\n",
            " Index(['Tag', 'Reputation', 'Answers', 'Views', 'Upvotes'], dtype='object')\n",
            "test columns:\n",
            " Index(['Tag', 'Reputation', 'Answers', 'Views'], dtype='object')\n"
          ],
          "name": "stdout"
        }
      ]
    },
    {
      "cell_type": "code",
      "metadata": {
        "id": "mEZucoCDEoYw",
        "colab_type": "code",
        "outputId": "000ac1e4-aa89-485f-eba4-148e17e43c1d",
        "colab": {
          "base_uri": "https://localhost:8080/",
          "height": 218
        }
      },
      "source": [
        "print(train_data.head())\n",
        "print(test_data.head())"
      ],
      "execution_count": 432,
      "outputs": [
        {
          "output_type": "stream",
          "text": [
            "   Tag  Reputation  Answers    Views  Upvotes\n",
            "0    0      3942.0      2.0   7855.0     42.0\n",
            "1    0     26046.0     12.0  55801.0   1175.0\n",
            "2    1      1358.0      4.0   8067.0     60.0\n",
            "3    0       264.0      3.0  27064.0      9.0\n",
            "4    1      4271.0      4.0  13986.0     83.0\n",
            "   Tag  Reputation  Answers    Views\n",
            "0    0      5645.0      3.0  33200.0\n",
            "1    1     24511.0      6.0   2730.0\n",
            "2    3       927.0      1.0  21167.0\n",
            "3    3        21.0      6.0  18528.0\n",
            "4    3      4475.0     10.0  57240.0\n"
          ],
          "name": "stdout"
        }
      ]
    },
    {
      "cell_type": "code",
      "metadata": {
        "id": "kEYKeXJb3Y3b",
        "colab_type": "code",
        "outputId": "28c852a0-4650-4dce-d008-819d5f3ff29d",
        "colab": {
          "base_uri": "https://localhost:8080/",
          "height": 353
        }
      },
      "source": [
        "\"data pre-processing\"\n",
        "train_summary = train_data.describe()\n",
        "test_summary = test_data.describe()\n",
        "\n",
        "print(train_summary)\n",
        "print(test_summary)\n",
        "\n",
        "\"missing data summary\"\n",
        "summary_na_train= [train_data[x].isna().sum() for x in train_data.columns] # we don't have any nan values in this data\n",
        "summary_na_test= [test_data[x].isna().sum() for x in test_data.columns] # we don't have any nan values in this data\n",
        "\n",
        "print(summary_na_train)\n",
        "print(summary_na_test)"
      ],
      "execution_count": 433,
      "outputs": [
        {
          "output_type": "stream",
          "text": [
            "                Tag    Reputation        Answers         Views        Upvotes\n",
            "count  330045.00000  3.300450e+05  330045.000000  3.300450e+05  330045.000000\n",
            "mean        3.54305  7.773147e+03       3.917672  2.964507e+04     337.505358\n",
            "std         2.49392  2.706141e+04       3.579515  8.095646e+04    3592.441135\n",
            "min         0.00000  0.000000e+00       0.000000  9.000000e+00       0.000000\n",
            "25%         1.00000  2.820000e+02       2.000000  2.594000e+03       8.000000\n",
            "50%         4.00000  1.236000e+03       3.000000  8.954000e+03      28.000000\n",
            "75%         6.00000  5.118000e+03       5.000000  2.687000e+04     107.000000\n",
            "max         9.00000  1.042428e+06      76.000000  5.231058e+06  615278.000000\n",
            "                 Tag    Reputation        Answers         Views\n",
            "count  141448.000000  1.414480e+05  141448.000000  1.414480e+05\n",
            "mean        3.552542  7.920927e+03       3.914873  2.984633e+04\n",
            "std         2.494553  2.791072e+04       3.577460  8.034374e+04\n",
            "min         0.000000  0.000000e+00       0.000000  9.000000e+00\n",
            "25%         1.000000  2.860000e+02       2.000000  2.608000e+03\n",
            "50%         4.000000  1.245000e+03       3.000000  8.977000e+03\n",
            "75%         6.000000  5.123000e+03       5.000000  2.698925e+04\n",
            "max         9.000000  1.042428e+06      73.000000  5.004669e+06\n",
            "[0, 0, 0, 0, 0]\n",
            "[0, 0, 0, 0]\n"
          ],
          "name": "stdout"
        }
      ]
    },
    {
      "cell_type": "code",
      "metadata": {
        "id": "lXJZddNGrO-B",
        "colab_type": "code",
        "colab": {
          "base_uri": "https://localhost:8080/",
          "height": 571
        },
        "outputId": "8fe15a15-fa13-4594-8143-7ca2f5cde792"
      },
      "source": [
        "\"some manual analysis\"\n",
        "print(\"for Reputation\")\n",
        "for p1 in np.arange(0,100,11):\n",
        "  print(str(p1)+'-percentile: ' 'train_data-{}, test_data-{}'.format(np.percentile(train_data['Reputation'],p1),np.percentile(test_data['Reputation'],p1)))\n",
        "  \n",
        "print(\"for Views\")\n",
        "for p1 in np.arange(0,100,11):\n",
        "  print(str(p1)+'-percentile: ' 'train_data-{}, test_data-{}'.format(np.percentile(train_data['Views'],p1),np.percentile(test_data['Views'],p1)))\n",
        "\n",
        "  \n",
        "print(\"for Answers\")\n",
        "for p1 in np.arange(0,100,11):\n",
        "  print(str(p1)+'-percentile: ' 'train_data-{}, test_data-{}'.format(np.percentile(train_data['Answers'],p1),np.percentile(test_data['Answers'],p1)))"
      ],
      "execution_count": 434,
      "outputs": [
        {
          "output_type": "stream",
          "text": [
            "for Reputation\n",
            "0-percentile: train_data-0.0, test_data-0.0\n",
            "11-percentile: train_data-62.0, test_data-62.0\n",
            "22-percentile: train_data-186.0, test_data-187.0\n",
            "33-percentile: train_data-473.0, test_data-478.0\n",
            "44-percentile: train_data-886.0, test_data-893.0\n",
            "55-percentile: train_data-1628.0, test_data-1646.8500000000058\n",
            "66-percentile: train_data-2966.0, test_data-2986.0\n",
            "77-percentile: train_data-5802.0, test_data-5810.0\n",
            "88-percentile: train_data-13610.0, test_data-13756.0\n",
            "99-percentile: train_data-113925.0, test_data-114888.0\n",
            "for Views\n",
            "0-percentile: train_data-9.0, test_data-9.0\n",
            "11-percentile: train_data-818.0, test_data-829.0\n",
            "22-percentile: train_data-2132.0, test_data-2145.0\n",
            "33-percentile: train_data-4075.0, test_data-4064.0\n",
            "44-percentile: train_data-6874.0, test_data-6905.0\n",
            "55-percentile: train_data-11093.0, test_data-11100.850000000006\n",
            "66-percentile: train_data-17761.0, test_data-17837.0\n",
            "77-percentile: train_data-29728.880000000005, test_data-29904.0\n",
            "88-percentile: train_data-58090.0, test_data-58554.36\n",
            "99-percentile: train_data-316887.04, test_data-327362.13999999996\n",
            "for Answers\n",
            "0-percentile: train_data-0.0, test_data-0.0\n",
            "11-percentile: train_data-1.0, test_data-1.0\n",
            "22-percentile: train_data-2.0, test_data-2.0\n",
            "33-percentile: train_data-2.0, test_data-2.0\n",
            "44-percentile: train_data-3.0, test_data-3.0\n",
            "55-percentile: train_data-3.0, test_data-3.0\n",
            "66-percentile: train_data-4.0, test_data-4.0\n",
            "77-percentile: train_data-5.0, test_data-5.0\n",
            "88-percentile: train_data-7.0, test_data-7.0\n",
            "99-percentile: train_data-18.0, test_data-18.0\n"
          ],
          "name": "stdout"
        }
      ]
    },
    {
      "cell_type": "markdown",
      "metadata": {
        "id": "IXJrSk4b8IzD",
        "colab_type": "text"
      },
      "source": [
        "Generating some discrete features from continuous features"
      ]
    },
    {
      "cell_type": "code",
      "metadata": {
        "id": "S4Dyu0WQJk1h",
        "colab_type": "code",
        "colab": {}
      },
      "source": [
        "# from sklearn.preprocessing import Binarizer\n",
        "\n",
        "# # #for 'Reputation'\n",
        "# bn_repu = Binarizer(threshold=1e5)\n",
        "# repu_train = bn_repu.transform([train_data['Reputation']])[0]\n",
        "# train_data['Repu_grade'] = repu_train\n",
        "# repu_test = bn_repu.transform([test_data['Reputation']])[0]\n",
        "# test_data['Repu_grade'] = repu_test\n",
        "\n",
        "# #for 'Answers'\n",
        "# bn_ans = Binarizer(threshold=7)\n",
        "# ans_train = bn_ans.transform([train_data['Answers']])[0]\n",
        "# train_data['Answer_grade'] = ans_train\n",
        "# ans_test = bn_ans.transform([test_data['Answers']])[0]\n",
        "# test_data['Answer_grade'] = ans_test\n",
        "\n",
        "# # #for 'Views'\n",
        "# bn_view = Binarizer(threshold=5e5)\n",
        "# view_train = bn_view.transform([train_data['Views']])[0]\n",
        "# train_data['View_grade'] = view_train\n",
        "# view_test = bn_view.transform([test_data['Views']])[0]\n",
        "# test_data['View_grade'] = view_test"
      ],
      "execution_count": 0,
      "outputs": []
    },
    {
      "cell_type": "markdown",
      "metadata": {
        "id": "NETdyhpYooC2",
        "colab_type": "text"
      },
      "source": [
        "Box-plots of train-test data & data selection"
      ]
    },
    {
      "cell_type": "code",
      "metadata": {
        "id": "J78SEH4uouxu",
        "colab_type": "code",
        "outputId": "f0f41ff4-ae27-4f8f-fdd2-3eabfdc18f42",
        "colab": {
          "base_uri": "https://localhost:8080/",
          "height": 619
        }
      },
      "source": [
        "\"train box-plot\"\n",
        "plt.figure(figsize=[16,10])\n",
        "train_data.boxplot()"
      ],
      "execution_count": 436,
      "outputs": [
        {
          "output_type": "execute_result",
          "data": {
            "text/plain": [
              "<matplotlib.axes._subplots.AxesSubplot at 0x7fa2e0ca1470>"
            ]
          },
          "metadata": {
            "tags": []
          },
          "execution_count": 436
        },
        {
          "output_type": "display_data",
          "data": {
            "image/png": "[encoded data removed]",
            "text/plain": [
              "<Figure size 1152x720 with 1 Axes>"
            ]
          },
          "metadata": {
            "tags": [],
            "needs_background": "light"
          }
        }
      ]
    },
    {
      "cell_type": "code",
      "metadata": {
        "id": "oJpG70Pzpe1O",
        "colab_type": "code",
        "outputId": "0e9a8b81-86cf-4abd-e809-4def827ffdf1",
        "colab": {
          "base_uri": "https://localhost:8080/",
          "height": 619
        }
      },
      "source": [
        "\"test box-plot\"\n",
        "plt.figure(figsize=[16,10])\n",
        "test_data.boxplot()"
      ],
      "execution_count": 437,
      "outputs": [
        {
          "output_type": "execute_result",
          "data": {
            "text/plain": [
              "<matplotlib.axes._subplots.AxesSubplot at 0x7fa2deafbd68>"
            ]
          },
          "metadata": {
            "tags": []
          },
          "execution_count": 437
        },
        {
          "output_type": "display_data",
          "data": {
            "image/png": "[encoded data removed]",
            "text/plain": [
              "<Figure size 1152x720 with 1 Axes>"
            ]
          },
          "metadata": {
            "tags": [],
            "needs_background": "light"
          }
        }
      ]
    },
    {
      "cell_type": "markdown",
      "metadata": {
        "id": "vM9brzGFq_Pw",
        "colab_type": "text"
      },
      "source": [
        "treating outliers of training data for better model fitment"
      ]
    },
    {
      "cell_type": "code",
      "metadata": {
        "id": "sBAag1V1rCHe",
        "colab_type": "code",
        "outputId": "ea8b817d-1dc0-41f0-8404-64a0cd5f3138",
        "colab": {
          "base_uri": "https://localhost:8080/",
          "height": 653
        }
      },
      "source": [
        "\"First approach: we have tried with below approach but it's not good for test data\"\n",
        "# from scipy import stats\n",
        "# \"we'll drop those values of a columns where (value>97.85th percentile of that columns) or (value<0.13 percentile of that columns)\"\n",
        "# train_data = train_data[(np.abs(stats.zscore(train_data)) < 3).all(axis=1)]\n",
        "# \"train box-plot\"\n",
        "# plt.figure(figsize=[16,10])\n",
        "# train_data.boxplot()\n",
        "\n",
        "print('train shape before outlier removal:', train_data.shape)\n",
        "\"second approach: we'll be manually removing some values which are not much observed in test data\"\n",
        "#1st: drop rows where 'Reputation' is > 1e6\"\n",
        "# train_data = train_data.drop(train_data[train_data.Reputation>1*1e6].index).reset_index(drop=['index'])\n",
        "# print('train shape after 1st outlier treatment:', train_data.shape)\n",
        "\n",
        "#2nd: drop rows where 'Reputation' is > 3e6\"\n",
        "train_data = train_data.drop(train_data[train_data.Views>3*1e6].index).reset_index(drop=['index'])\n",
        "print('train shape after 1st outlier treatment:', train_data.shape)\n",
        "\n",
        "\"train box-plot after some manual outlier treatments\"\n",
        "plt.figure(figsize=[16,10])\n",
        "train_data.boxplot()"
      ],
      "execution_count": 438,
      "outputs": [
        {
          "output_type": "stream",
          "text": [
            "train shape before outlier removal: (330045, 5)\n",
            "train shape after 1st outlier treatment: (330032, 5)\n"
          ],
          "name": "stdout"
        },
        {
          "output_type": "execute_result",
          "data": {
            "text/plain": [
              "<matplotlib.axes._subplots.AxesSubplot at 0x7fa2deb8bf60>"
            ]
          },
          "metadata": {
            "tags": []
          },
          "execution_count": 438
        },
        {
          "output_type": "display_data",
          "data": {
            "image/png": "[encoded data removed]",
            "text/plain": [
              "<Figure size 1152x720 with 1 Axes>"
            ]
          },
          "metadata": {
            "tags": [],
            "needs_background": "light"
          }
        }
      ]
    },
    {
      "cell_type": "markdown",
      "metadata": {
        "id": "ss8eaXAtaFJj",
        "colab_type": "text"
      },
      "source": [
        "Feature standardization scaling"
      ]
    },
    {
      "cell_type": "code",
      "metadata": {
        "id": "GhgOfUOVZBhU",
        "colab_type": "code",
        "colab": {}
      },
      "source": [
        "from sklearn.preprocessing import StandardScaler\n",
        "\"fitting & transforming on train data\"\n",
        "sc_fit = StandardScaler().fit(train_data.iloc[:, train_data.columns!='Upvotes'].values)\n",
        "train_input_scaled = sc_fit.transform(train_data.iloc[:, train_data.columns!='Upvotes'].values)\n",
        "\"transforming on test data\"\n",
        "test_input_scaled = sc_fit.transform(test_data.values)"
      ],
      "execution_count": 0,
      "outputs": []
    },
    {
      "cell_type": "code",
      "metadata": {
        "id": "YluSLvPqhMj-",
        "colab_type": "code",
        "outputId": "71f4de06-59df-45f0-8686-3231f27deb94",
        "colab": {
          "base_uri": "https://localhost:8080/",
          "height": 118
        }
      },
      "source": [
        "print('scaled train data inputs:\\n',train_input_scaled[:2])\n",
        "print('scaled test data inputs:\\n',test_input_scaled[:2])"
      ],
      "execution_count": 440,
      "outputs": [
        {
          "output_type": "stream",
          "text": [
            "scaled train data inputs:\n",
            " [[-1.42067567 -0.14154937 -0.53621288 -0.28006428]\n",
            " [-1.42067567  0.67526131  2.26148294  0.34040733]]\n",
            "scaled test data inputs:\n",
            " [[-1.42067567 -0.07861829 -0.2564433   0.04792665]\n",
            " [-1.01970175  0.61853835  0.58286545 -0.34638716]]\n"
          ],
          "name": "stdout"
        }
      ]
    },
    {
      "cell_type": "markdown",
      "metadata": {
        "id": "fM8Esc7KYDhi",
        "colab_type": "text"
      },
      "source": [
        "Standard scaling of datasets"
      ]
    },
    {
      "cell_type": "code",
      "metadata": {
        "id": "316SX55839_w",
        "colab_type": "code",
        "colab": {}
      },
      "source": [
        "\"splitting train-test data\"\n",
        "from sklearn.model_selection import train_test_split\n",
        "from sklearn.utils import shuffle\n",
        "\n",
        "input_features = train_input_scaled\n",
        "target = train_data['Upvotes'].values\n",
        "\n",
        "input_features1, target1 = shuffle(input_features, target, random_state=10)\n",
        "X_train, X_val, y_train, y_val = train_test_split(input_features1, target1, test_size=0.1, random_state=10)\n",
        "\n",
        "\n",
        "\"ML models\"\n",
        "# we'll try 6 different models to get best model with best hyper-parameters\n",
        "# will use gridsearchcv o randomizedsearchcv for parameter optimization\n",
        "import numpy as np\n",
        "from sklearn.preprocessing import PolynomialFeatures\n",
        "from sklearn.linear_model import LassoLars, Ridge, Lasso, ElasticNet\n",
        "# from sklearn.neighbors import KNeighborsRegressor\n",
        "# from sklearn.ensemble import RandomForestRegressor\n",
        "# from xgboost import XGBRegressor\n",
        "# from sklearn.svm import SVR\n",
        "\n",
        "poly = PolynomialFeatures(4)\n",
        "\n",
        "lasso = Lasso()\n",
        "ridge = Ridge()\n",
        "lassolars = LassoLars()\n",
        "elastnet = ElasticNet()\n",
        "\n",
        "# knn = KNeighborsRegressor()\n",
        "# rfr = RandomForestRegressor()\n",
        "# xgbr = XGBRegressor()\n",
        "# svr = SVR()\n",
        "\n",
        "from sklearn.model_selection import GridSearchCV, RandomizedSearchCV\n",
        "from sklearn.metrics import mean_squared_error as mse\n",
        "\n",
        "# algos = [knn, svr, rfr, xgbr]\n",
        "algos = [lasso, ridge, lassolars, elastnet]\n",
        "grid_params = {\n",
        "    # lasso: {'alpha':[0,0.005,0.01,0.02,0.03,0.04,0.05,0.06,0.07,0.1,0.2,0.5,1]},\n",
        "               lasso: {'alpha':[0,0.005,0.01,0.02,0.03,0.04,0.05,0.06,0.07,0.1,0.2,0.5,1,2,5,10,20,30,40,50]},\n",
        "                ridge: {'alpha':[0,0.005,0.01,0.02,0.03,0.04,0.05,0.06,0.07,0.1,0.2,0.3,0.4,0.5,0.6,0.7,0.8,0.9,1,2,5,10, 20, 50,60,70,80,100, 200, 300, 500, 1000, 2000, 5000, 10000, 50000, 100000,5e5, 1e6]},\n",
        "                 lassolars: {'alpha':[0,0.005,0.01,0.02,0.03,0.04,0.05,0.06,0.07,0.08, 0.09,0.1,0.15,0.2,0.25,0.3,0.35,0.4,0.45,0.5,1,2,5,10]},\n",
        "                #  lassolars: {'alpha':list(np.linspace(0.04,0.06,21))},\n",
        "                elastnet: {'alpha':[0,0.005,0.01,0.02,0.03,0.04,0.05,0.06,0.07,0.1,0.2,0.5,1,2,5,10]},\n",
        "                #  knn:{'n_neighbors':[1,3,5,11,15,17,20,30,40,50,70],'weights':['uniform','distance'],'metric':['euclidean','manhattan']},\n",
        "                #  svr:{'C': [0.1, 1, 10, 100, 1000],'epsilon': [0.0001, 0.0005, 0.001, 0.005, 0.01, 0.05, 0.1, 0.5, 1, 5, 10],\n",
        "                #          'gamma': [1, 0.1, 0.01, 0.001, 0.0001],'kernel': ['linear', 'poly', 'rbf', 'sigmoid']},\n",
        "                #   rfr: {'n_estimators': [int(x) for x in np.linspace(start = 10, stop = 200, num = 10)],# Number of trees in random forest\n",
        "                #                                  'max_features': ['auto', 'sqrt',None],# Number of features to consider at every split\n",
        "                #                                  'max_depth': [int(x) for x in np.linspace(10, 110, num = 11)]+[None],# Maximum number of levels in tree\n",
        "                #                                  'min_samples_split': [2, 5, 10],# Minimum number of samples required to split a node\n",
        "                #                                  'min_samples_leaf': [1, 2, 4],# Minimum number of samples required at each leaf node\n",
        "                #                                  'bootstrap': [True, False]},# Method of selecting samples for training each tree\n",
        "                #  xgbr:{'eta':[0.1,0.3,0.5,0.7],'gamma':[0,10,100],'max_depth':[1,3,5,9,11]}\n",
        "               }                                     \n"
      ],
      "execution_count": 0,
      "outputs": []
    },
    {
      "cell_type": "code",
      "metadata": {
        "id": "b8SDcXXm4sA8",
        "colab_type": "code",
        "colab": {}
      },
      "source": [
        "grid_params = {\n",
        "    # lasso: {'alpha':[0,0.005,0.01,0.02,0.03,0.04,0.05,0.06,0.07,0.1,0.2,0.5,1]},\n",
        "               lasso:  {'alpha':[0,0.005,0.01,0.02,0.03,0.04,0.05,0.06,0.07,0.08, 0.09,0.1,0.15,0.2,0.25,0.3,0.35,0.4,0.45,0.5,1,2,5,10]},\n",
        "                ridge: {'alpha':[0,0.005,0.01,0.02,0.03,0.04,0.05,0.06,0.07,0.1,0.2,0.3,0.4,0.5,0.6,0.7,0.8,0.9,1,2,5,10, 20, 50,60,70,80,100, 200, 300, 500, 1000, 2000, 5000, 10000, 50000, 100000,5e5, 1e6]},\n",
        "                 lassolars: {'alpha':[0,0.005,0.01,0.02,0.03,0.04,0.05,0.06,0.07,0.08, 0.09,0.1,0.15,0.2,0.25,0.3,0.35,0.4,0.45,0.5,1,2,5,10]},\n",
        "                #  lassolars: {'alpha':list(np.linspace(0.03,0.05,21))},\n",
        "                elastnet: {'alpha':[0,0.005,0.01,0.02,0.03,0.04,0.05,0.06,0.07,0.1,0.2,0.5,1,2,5,10],\n",
        "                           'l1_ratio':[0.25,0.5,0.75]},\n",
        "                #  knn:{'n_neighbors':[1,3,5,11,15,17,20,30,40,50,70],'weights':['uniform','distance'],'metric':['euclidean','manhattan']},\n",
        "                #  svr:{'C': [0.1, 1, 10, 100, 1000],'epsilon': [0.0001, 0.0005, 0.001, 0.005, 0.01, 0.05, 0.1, 0.5, 1, 5, 10],\n",
        "                #          'gamma': [1, 0.1, 0.01, 0.001, 0.0001],'kernel': ['linear', 'poly', 'rbf', 'sigmoid']},\n",
        "                #   rfr: {'n_estimators': [int(x) for x in np.linspace(start = 10, stop = 200, num = 10)],# Number of trees in random forest\n",
        "                #                                  'max_features': ['auto', 'sqrt',None],# Number of features to consider at every split\n",
        "                #                                  'max_depth': [int(x) for x in np.linspace(10, 110, num = 11)]+[None],# Maximum number of levels in tree\n",
        "                #                                  'min_samples_split': [2, 5, 10],# Minimum number of samples required to split a node\n",
        "                #                                  'min_samples_leaf': [1, 2, 4],# Minimum number of samples required at each leaf node\n",
        "                #                                  'bootstrap': [True, False]},# Method of selecting samples for training each tree\n",
        "                #  xgbr:{'eta':[0.1,0.3,0.5,0.7],'gamma':[0,10,100],'max_depth':[1,3,5,9,11]}\n",
        "               }                                     \n"
      ],
      "execution_count": 0,
      "outputs": []
    },
    {
      "cell_type": "markdown",
      "metadata": {
        "id": "0TmnZ2I9jPx6",
        "colab_type": "text"
      },
      "source": [
        "We have tried multiple hyper-parametric approaches like **SVR, XGBR, RFR, KNNR,** but all these are giving** > 1400 RMSE** with hyper-parameter tuning. It's because of polynomial distribution of this data. We'll be working with polynomial regression related approaches only, to acheive a better **RMSE** score"
      ]
    },
    {
      "cell_type": "code",
      "metadata": {
        "id": "YeIvC8Q34D2L",
        "colab_type": "code",
        "outputId": "d0350898-2173-4899-b8fe-2f5f8a3ab95d",
        "colab": {
          "base_uri": "https://localhost:8080/",
          "height": 171
        }
      },
      "source": [
        "#%%\n",
        "import time\n",
        "scoring='neg_mean_squared_error'\n",
        "cv_results_list = []\n",
        "best_params_list = []\n",
        "best_cv_rmse_list = []\n",
        "val_rmse_list = []\n",
        "train_time_list = []\n",
        "for algo in algos[:1]:\n",
        "    num_iter = 30\n",
        "    st = time.time()\n",
        "#    model = GridSearchCV(knn, grid_params[knn], n_jobs=-1, scoring=scoring) # not performing gridsearchcv as it takes lot time\n",
        "    total_param_combinations = np.prod([len(grid_params[algo][par]) for par in list(grid_params[algo].keys())])\n",
        "    print(\"train param, combinations:\\n\",total_param_combinations)\n",
        "    \n",
        "    # if (algo==lassolars):\n",
        "    # # if (algo==lasso) | (algo==lassolars):\n",
        "    #     X_train1 = poly.fit_transform(X_train)\n",
        "    #     model = GridSearchCV(estimator=algo, cv=3, scoring=scoring,n_jobs=-1, param_grid=grid_params[algo], refit=True)\n",
        "    #     model.fit(X_train1, y_train)\n",
        "    # else:\n",
        "    #     model = RandomizedSearchCV(estimator=algo, n_iter=num_iter, cv=3, scoring=scoring,n_jobs=-1, param_distributions=grid_params[algo], refit=True)\n",
        "    #     model.fit(X_train, y_train)\n",
        "        \n",
        "        \n",
        "    X_train1 = poly.fit_transform(X_train)\n",
        "    model = GridSearchCV(estimator=algo, cv=5, scoring=scoring,n_jobs=-1, param_grid=grid_params[algo], refit=True)\n",
        "    # model = RandomizedSearchCV(estimator=algo, n_iter=num_iter, cv=5, scoring=scoring,n_jobs=-1, param_distributions=grid_params[algo], refit=True)\n",
        "    # model=algo\n",
        "    model.fit(X_train1, y_train)\n",
        "    \n",
        "    \n",
        "    try:\n",
        "      \n",
        "      cv_results_list+=[model.cv_results_]\n",
        "      \n",
        "      best_cv_rmse1 = np.sqrt(-max(model.cv_results_['mean_test_score']))\n",
        "      best_cv_rmse_list+=[best_cv_rmse1]\n",
        "      \n",
        "      best_params_list+=[model.best_params_]\n",
        "      \n",
        "      train_time1 = str(round(time.time()-st,2))+' seconds'\n",
        "      train_time_list+=[train_time1]\n",
        "\n",
        "      print('total_cv_time:',train_time1)\n",
        "      print('avg_cv_rmse:',best_cv_rmse1)\n",
        "      print(\"best params\", best_params_list[-1])\n",
        "    except:\n",
        "      print(\"cv-not-done\")\n",
        "\n",
        "    # if (algo==lasso) | (algo==ridge) | (algo==lassolars) | (algo==elastnet):\n",
        "    #     X_val1 = poly.transform(X_val)\n",
        "    #     y_pred = model.predict(X_val1)\n",
        "    # else:\n",
        "    #     y_pred = model.predict(X_val)\n",
        "\n",
        "    X_val1 = poly.transform(X_val)\n",
        "    y_pred = model.predict(X_val1)\n",
        "    \n",
        "    rmse1 = np.sqrt(mse(y_val,y_pred))\n",
        "        \n",
        "    val_rmse_list+=[rmse1]\n",
        "    \n",
        "    \n",
        "    print('val_rmse:', rmse1)"
      ],
      "execution_count": 479,
      "outputs": [
        {
          "output_type": "stream",
          "text": [
            "train param, combinations:\n",
            " 20\n",
            "total_cv_time: 3728.66 seconds\n",
            "avg_cv_rmse: 1098.2135388907582\n",
            "best params {'alpha': 50}\n",
            "val_rmse: 828.46347581339\n"
          ],
          "name": "stdout"
        },
        {
          "output_type": "stream",
          "text": [
            "/usr/local/lib/python3.6/dist-packages/sklearn/linear_model/_coordinate_descent.py:476: ConvergenceWarning: Objective did not converge. You might want to increase the number of iterations. Duality gap: 156379152141.89078, tolerance: 349610137.5403965\n",
            "  positive)\n"
          ],
          "name": "stderr"
        }
      ]
    },
    {
      "cell_type": "code",
      "metadata": {
        "id": "ESbUgoNd6zSa",
        "colab_type": "code",
        "colab": {
          "base_uri": "https://localhost:8080/",
          "height": 67
        },
        "outputId": "80054d5c-7f27-4d32-beae-f8e219ea471e"
      },
      "source": [
        "print(algo)"
      ],
      "execution_count": 444,
      "outputs": [
        {
          "output_type": "stream",
          "text": [
            "LassoLars(alpha=1.0, copy_X=True, eps=2.220446049250313e-16, fit_intercept=True,\n",
            "          fit_path=True, max_iter=500, normalize=True, positive=False,\n",
            "          precompute='auto', verbose=False)\n"
          ],
          "name": "stdout"
        }
      ]
    },
    {
      "cell_type": "markdown",
      "metadata": {
        "id": "cLhkDMm53tkf",
        "colab_type": "text"
      },
      "source": [
        "***RMSE performance summary for linear model related regressions***"
      ]
    },
    {
      "cell_type": "markdown",
      "metadata": {
        "id": "wODOg4YH34Ki",
        "colab_type": "text"
      },
      "source": [
        "**CV_RMSE-when we generate 3 additional binary features**\n",
        "\n",
        "Lasso: 2957 (alpha=10)\n",
        "\n",
        "Ridge: 1119.27 (alpha=10000)\n",
        "\n",
        "Lasso-Lars: 1133 (alpha=0.15)\n",
        "\n",
        "Elasticnet: 1200 (l1_ratio=0.25, alpha=0.05)\n",
        "\n",
        "SVDRegressor:\n",
        "\n"
      ]
    },
    {
      "cell_type": "markdown",
      "metadata": {
        "id": "QMrb6UQ_kkki",
        "colab_type": "text"
      },
      "source": [
        "prediction on test data"
      ]
    },
    {
      "cell_type": "code",
      "metadata": {
        "id": "6pLWy-Dxkn0l",
        "colab_type": "code",
        "outputId": "fbb6abac-f566-4016-a79f-ec5b0f10ee40",
        "colab": {
          "base_uri": "https://localhost:8080/",
          "height": 34
        }
      },
      "source": [
        "test_data.columns"
      ],
      "execution_count": 456,
      "outputs": [
        {
          "output_type": "execute_result",
          "data": {
            "text/plain": [
              "Index(['Tag', 'Reputation', 'Answers', 'Views'], dtype='object')"
            ]
          },
          "metadata": {
            "tags": []
          },
          "execution_count": 456
        }
      ]
    },
    {
      "cell_type": "code",
      "metadata": {
        "id": "VPlNs3pVEyUv",
        "colab_type": "code",
        "colab": {}
      },
      "source": [
        "X_test = test_input_scaled\n",
        "X_test1 = poly.transform(X_test)\n",
        "final_pred = model.predict(X_test1)\n",
        "final_submission = pd.DataFrame({'ID':list(test_data1.ID),'Upvotes':list(final_pred)})"
      ],
      "execution_count": 0,
      "outputs": []
    },
    {
      "cell_type": "code",
      "metadata": {
        "id": "LLB41omNFOZq",
        "colab_type": "code",
        "colab": {}
      },
      "source": [
        "final_submission.to_csv('upvotes_17th_submission_llr4_20_outlier_treatmet_manual.csv', index=False)"
      ],
      "execution_count": 0,
      "outputs": []
    },
    {
      "cell_type": "code",
      "metadata": {
        "id": "f1Zwr_gXtqUO",
        "colab_type": "code",
        "colab": {}
      },
      "source": [
        ""
      ],
      "execution_count": 0,
      "outputs": []
    }
  ]
}