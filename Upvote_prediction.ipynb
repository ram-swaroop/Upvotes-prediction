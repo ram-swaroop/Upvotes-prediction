{
  "nbformat": 4,
  "nbformat_minor": 0,
  "metadata": {
    "colab": {
      "name": "Upvote-prediction.ipynb",
      "provenance": [],
      "toc_visible": true,
      "authorship_tag": "ABX9TyOaU+wx9rihX2bzGmmPfNUn",
      "include_colab_link": true
    },
    "kernelspec": {
      "name": "python3",
      "display_name": "Python 3"
    },
    "accelerator": "GPU"
  },
  "cells": [
    {
      "cell_type": "markdown",
      "metadata": {
        "id": "view-in-github",
        "colab_type": "text"
      },
      "source": [
        "<a href=\"https://colab.research.google.com/github/ramswaroopbhakar14/Upvotes-prediction/blob/master/Upvote_prediction.ipynb\" target=\"_parent\"><img src=\"https://colab.research.google.com/assets/colab-badge.svg\" alt=\"Open In Colab\"/></a>"
      ]
    },
    {
      "cell_type": "code",
      "metadata": {
        "id": "TwY_dAmW2SD_",
        "colab_type": "code",
        "outputId": "ea40c974-8246-4d7e-a037-1052973b0b57",
        "colab": {
          "base_uri": "https://localhost:8080/",
          "height": 118
        }
      },
      "source": [
        "! git clone https://github.com/ramswaroopbhakar14/Upvotes-prediction.git"
      ],
      "execution_count": 2,
      "outputs": [
        {
          "output_type": "stream",
          "text": [
            "Cloning into 'Upvotes-prediction'...\n",
            "remote: Enumerating objects: 20, done.\u001b[K\n",
            "remote: Counting objects: 100% (20/20), done.\u001b[K\n",
            "remote: Compressing objects: 100% (18/18), done.\u001b[K\n",
            "remote: Total 20 (delta 5), reused 7 (delta 0), pack-reused 0\u001b[K\n",
            "Unpacking objects: 100% (20/20), done.\n"
          ],
          "name": "stdout"
        }
      ]
    },
    {
      "cell_type": "code",
      "metadata": {
        "id": "1uADx6GP2aQq",
        "colab_type": "code",
        "outputId": "08e36ac4-5351-45b9-9c96-0a8f16f702e3",
        "colab": {
          "base_uri": "https://localhost:8080/",
          "height": 34
        }
      },
      "source": [
        "%cd /content/Upvotes-prediction/data"
      ],
      "execution_count": 3,
      "outputs": [
        {
          "output_type": "stream",
          "text": [
            "/content/Upvotes-prediction/data\n"
          ],
          "name": "stdout"
        }
      ]
    },
    {
      "cell_type": "code",
      "metadata": {
        "id": "Nw46xyVN227P",
        "colab_type": "code",
        "colab": {}
      },
      "source": [
        "import pandas as pd\n",
        "train_data = pd.read_csv('train_data.csv')\n",
        "test_data = pd.read_csv('test_data.csv')\n",
        "\n",
        "\"creating copy of both train & test for further uses\"\n",
        "train_data1 = train_data.copy()\n",
        "test_data1 = test_data.copy()"
      ],
      "execution_count": 0,
      "outputs": []
    },
    {
      "cell_type": "code",
      "metadata": {
        "id": "wR_U690f3XQ6",
        "colab_type": "code",
        "outputId": "9656ad2a-98a0-461b-81d9-4966773c34f2",
        "colab": {
          "base_uri": "https://localhost:8080/",
          "height": 84
        }
      },
      "source": [
        "print(\"train columns:\\n\",train_data.columns)\n",
        "print(\"test columns:\\n\",test_data.columns)"
      ],
      "execution_count": 5,
      "outputs": [
        {
          "output_type": "stream",
          "text": [
            "train columns:\n",
            " Index(['ID', 'Tag', 'Reputation', 'Answers', 'Username', 'Views', 'Upvotes'], dtype='object')\n",
            "test columns:\n",
            " Index(['ID', 'Tag', 'Reputation', 'Answers', 'Username', 'Views'], dtype='object')\n"
          ],
          "name": "stdout"
        }
      ]
    },
    {
      "cell_type": "markdown",
      "metadata": {
        "id": "9xGxzoCpZDbN",
        "colab_type": "text"
      },
      "source": [
        "Print train & test head data"
      ]
    },
    {
      "cell_type": "code",
      "metadata": {
        "id": "Z1zaP2fGZGy_",
        "colab_type": "code",
        "outputId": "534c0e76-b489-4ee7-8abd-daab8362e9fa",
        "colab": {
          "base_uri": "https://localhost:8080/",
          "height": 252
        }
      },
      "source": [
        "print(\"train sample:\\n\",train_data.head())\n",
        "print(\"test sample:\\n\",test_data.head())"
      ],
      "execution_count": 6,
      "outputs": [
        {
          "output_type": "stream",
          "text": [
            "train sample:\n",
            "        ID Tag  Reputation  Answers  Username    Views  Upvotes\n",
            "0   52664   a      3942.0      2.0    155623   7855.0     42.0\n",
            "1  327662   a     26046.0     12.0     21781  55801.0   1175.0\n",
            "2  468453   c      1358.0      4.0     56177   8067.0     60.0\n",
            "3   96996   a       264.0      3.0    168793  27064.0      9.0\n",
            "4  131465   c      4271.0      4.0    112223  13986.0     83.0\n",
            "test sample:\n",
            "        ID Tag  Reputation  Answers  Username    Views\n",
            "0  366953   a      5645.0      3.0     50652  33200.0\n",
            "1   71864   c     24511.0      6.0     37685   2730.0\n",
            "2  141692   i       927.0      1.0    135293  21167.0\n",
            "3  316833   i        21.0      6.0    166998  18528.0\n",
            "4  440445   i      4475.0     10.0     53504  57240.0\n"
          ],
          "name": "stdout"
        }
      ]
    },
    {
      "cell_type": "markdown",
      "metadata": {
        "id": "PZFRxbbTZf2i",
        "colab_type": "text"
      },
      "source": [
        "dropping non-important features"
      ]
    },
    {
      "cell_type": "code",
      "metadata": {
        "id": "FTiHlbFWZitr",
        "colab_type": "code",
        "colab": {}
      },
      "source": [
        "train_data = train_data1.drop(columns=['ID','Username'])\n",
        "test_data = test_data1.drop(columns=['ID','Username'])"
      ],
      "execution_count": 0,
      "outputs": []
    },
    {
      "cell_type": "code",
      "metadata": {
        "id": "CmTxqz_S3btn",
        "colab_type": "code",
        "outputId": "529c01fb-9a70-44dd-db9e-331fd5af3841",
        "colab": {
          "base_uri": "https://localhost:8080/",
          "height": 646
        }
      },
      "source": [
        "import seaborn as sns\n",
        "import matplotlib.pyplot as plt\n",
        "plt.figure()\n",
        "plt.title(\"corr-heat-map for train data\")\n",
        "\"find correlation matrix\"\n",
        "train_corr = train_data.corr()\n",
        "\"generating heatmap using train_corr\"\n",
        "sns.heatmap(train_corr) # we don't see any var-pair haivng > 0.5 correlation, hence we'll be directly going for model building\n",
        "\n",
        "plt.figure()\n",
        "plt.title(\"\\n\\ncorr-heat-map for test data\")\n",
        "\"find correlation matrix for test data\"\n",
        "test_corr = test_data.corr()\n",
        "\"generating heatmap using test_corr\"\n",
        "sns.heatmap(test_corr) "
      ],
      "execution_count": 8,
      "outputs": [
        {
          "output_type": "stream",
          "text": [
            "/usr/local/lib/python3.6/dist-packages/statsmodels/tools/_testing.py:19: FutureWarning: pandas.util.testing is deprecated. Use the functions in the public API at pandas.testing instead.\n",
            "  import pandas.util.testing as tm\n"
          ],
          "name": "stderr"
        },
        {
          "output_type": "execute_result",
          "data": {
            "text/plain": [
              "<matplotlib.axes._subplots.AxesSubplot at 0x7f0433255e80>"
            ]
          },
          "metadata": {
            "tags": []
          },
          "execution_count": 8
        },
        {
          "output_type": "display_data",
          "data": {
            "image/png": "[encoded data removed]",
            "text/plain": [
              "<Figure size 432x288 with 2 Axes>"
            ]
          },
          "metadata": {
            "tags": [],
            "needs_background": "light"
          }
        },
        {
          "output_type": "display_data",
          "data": {
            "image/png": "[encoded data removed]",
            "text/plain": [
              "<Figure size 432x288 with 2 Axes>"
            ]
          },
          "metadata": {
            "tags": [],
            "needs_background": "light"
          }
        }
      ]
    },
    {
      "cell_type": "markdown",
      "metadata": {
        "id": "XX5ohJqyalfK",
        "colab_type": "text"
      },
      "source": [
        "Converting car=tegorical to numerical features ('Tag')"
      ]
    },
    {
      "cell_type": "code",
      "metadata": {
        "id": "udbcDvsjaqwq",
        "colab_type": "code",
        "colab": {}
      },
      "source": [
        "\"Dealing with categorical features in a regression problem\"\n",
        "\n",
        "\"First approach: to convert each category as sdummy variables\"\n",
        "#train_data = pd.concat([train_data.loc[:, train_data.columns!='Tag'], pd.get_dummies(train_data[['Tag']])], axis=1)\n",
        "#test_data = pd.concat([test_data.loc[:, test_data.columns!='Tag'], pd.get_dummies(test_data[['Tag']])], axis=1)\n",
        "\n",
        "\"Second approach: to convert each category as a numerical label\"\n",
        "from sklearn.preprocessing import LabelEncoder\n",
        "le = LabelEncoder()\n",
        "le.fit(train_data['Tag']) # fitting label encoder for 'Tag'\n",
        "train_data['Tag'] = le.transform(train_data['Tag']) # label transforming 'Tag' for train_data\n",
        "test_data['Tag'] = le.transform(test_data['Tag']) # label transforming 'Tag' for test_data"
      ],
      "execution_count": 0,
      "outputs": []
    },
    {
      "cell_type": "code",
      "metadata": {
        "id": "GNQV1D_abPHG",
        "colab_type": "code",
        "outputId": "959760ad-05a6-473c-e63a-0dfec095d4ec",
        "colab": {
          "base_uri": "https://localhost:8080/",
          "height": 84
        }
      },
      "source": [
        "print(\"train columns:\\n\",train_data.columns)\n",
        "print(\"test columns:\\n\",test_data.columns)"
      ],
      "execution_count": 10,
      "outputs": [
        {
          "output_type": "stream",
          "text": [
            "train columns:\n",
            " Index(['Tag', 'Reputation', 'Answers', 'Views', 'Upvotes'], dtype='object')\n",
            "test columns:\n",
            " Index(['Tag', 'Reputation', 'Answers', 'Views'], dtype='object')\n"
          ],
          "name": "stdout"
        }
      ]
    },
    {
      "cell_type": "code",
      "metadata": {
        "id": "mEZucoCDEoYw",
        "colab_type": "code",
        "colab": {
          "base_uri": "https://localhost:8080/",
          "height": 218
        },
        "outputId": "67e6e520-b9cf-40b4-c2de-2426941e3d51"
      },
      "source": [
        "print(train_data.head())\n",
        "print(test_data.head())"
      ],
      "execution_count": 11,
      "outputs": [
        {
          "output_type": "stream",
          "text": [
            "   Tag  Reputation  Answers    Views  Upvotes\n",
            "0    0      3942.0      2.0   7855.0     42.0\n",
            "1    0     26046.0     12.0  55801.0   1175.0\n",
            "2    1      1358.0      4.0   8067.0     60.0\n",
            "3    0       264.0      3.0  27064.0      9.0\n",
            "4    1      4271.0      4.0  13986.0     83.0\n",
            "   Tag  Reputation  Answers    Views\n",
            "0    0      5645.0      3.0  33200.0\n",
            "1    1     24511.0      6.0   2730.0\n",
            "2    3       927.0      1.0  21167.0\n",
            "3    3        21.0      6.0  18528.0\n",
            "4    3      4475.0     10.0  57240.0\n"
          ],
          "name": "stdout"
        }
      ]
    },
    {
      "cell_type": "code",
      "metadata": {
        "id": "kEYKeXJb3Y3b",
        "colab_type": "code",
        "outputId": "8ca06cf6-7e1b-4909-cdcf-ab3e11565e51",
        "colab": {
          "base_uri": "https://localhost:8080/",
          "height": 353
        }
      },
      "source": [
        "\"data pre-processing\"\n",
        "train_summary = train_data.describe()\n",
        "test_summary = test_data.describe()\n",
        "\n",
        "print(train_summary)\n",
        "print(test_summary)\n",
        "\n",
        "\"missing data summary\"\n",
        "summary_na_train= [train_data[x].isna().sum() for x in train_data.columns] # we don't have any nan values in this data\n",
        "summary_na_test= [test_data[x].isna().sum() for x in test_data.columns] # we don't have any nan values in this data\n",
        "\n",
        "print(summary_na_train)\n",
        "print(summary_na_test)"
      ],
      "execution_count": 12,
      "outputs": [
        {
          "output_type": "stream",
          "text": [
            "                Tag    Reputation        Answers         Views        Upvotes\n",
            "count  330045.00000  3.300450e+05  330045.000000  3.300450e+05  330045.000000\n",
            "mean        3.54305  7.773147e+03       3.917672  2.964507e+04     337.505358\n",
            "std         2.49392  2.706141e+04       3.579515  8.095646e+04    3592.441135\n",
            "min         0.00000  0.000000e+00       0.000000  9.000000e+00       0.000000\n",
            "25%         1.00000  2.820000e+02       2.000000  2.594000e+03       8.000000\n",
            "50%         4.00000  1.236000e+03       3.000000  8.954000e+03      28.000000\n",
            "75%         6.00000  5.118000e+03       5.000000  2.687000e+04     107.000000\n",
            "max         9.00000  1.042428e+06      76.000000  5.231058e+06  615278.000000\n",
            "                 Tag    Reputation        Answers         Views\n",
            "count  141448.000000  1.414480e+05  141448.000000  1.414480e+05\n",
            "mean        3.552542  7.920927e+03       3.914873  2.984633e+04\n",
            "std         2.494553  2.791072e+04       3.577460  8.034374e+04\n",
            "min         0.000000  0.000000e+00       0.000000  9.000000e+00\n",
            "25%         1.000000  2.860000e+02       2.000000  2.608000e+03\n",
            "50%         4.000000  1.245000e+03       3.000000  8.977000e+03\n",
            "75%         6.000000  5.123000e+03       5.000000  2.698925e+04\n",
            "max         9.000000  1.042428e+06      73.000000  5.004669e+06\n",
            "[0, 0, 0, 0, 0]\n",
            "[0, 0, 0, 0]\n"
          ],
          "name": "stdout"
        }
      ]
    },
    {
      "cell_type": "markdown",
      "metadata": {
        "id": "NETdyhpYooC2",
        "colab_type": "text"
      },
      "source": [
        "Box-plots of train-test data & data selection"
      ]
    },
    {
      "cell_type": "code",
      "metadata": {
        "id": "J78SEH4uouxu",
        "colab_type": "code",
        "colab": {
          "base_uri": "https://localhost:8080/",
          "height": 619
        },
        "outputId": "9515b672-33da-4556-85eb-5c6695b3215e"
      },
      "source": [
        "\"train box-plot\"\n",
        "plt.figure(figsize=[16,10])\n",
        "train_data.boxplot()"
      ],
      "execution_count": 32,
      "outputs": [
        {
          "output_type": "execute_result",
          "data": {
            "text/plain": [
              "<matplotlib.axes._subplots.AxesSubplot at 0x7f041f51aa20>"
            ]
          },
          "metadata": {
            "tags": []
          },
          "execution_count": 32
        },
        {
          "output_type": "display_data",
          "data": {
            "image/png": "[encoded data removed]",
            "text/plain": [
              "<Figure size 1152x720 with 1 Axes>"
            ]
          },
          "metadata": {
            "tags": [],
            "needs_background": "light"
          }
        }
      ]
    },
    {
      "cell_type": "code",
      "metadata": {
        "id": "oJpG70Pzpe1O",
        "colab_type": "code",
        "colab": {
          "base_uri": "https://localhost:8080/",
          "height": 619
        },
        "outputId": "e2b1b3ac-e7cd-4eff-c841-54c29aef10dd"
      },
      "source": [
        "\"test box-plot\"\n",
        "plt.figure(figsize=[16,10])\n",
        "test_data.boxplot()"
      ],
      "execution_count": 33,
      "outputs": [
        {
          "output_type": "execute_result",
          "data": {
            "text/plain": [
              "<matplotlib.axes._subplots.AxesSubplot at 0x7f041f4736d8>"
            ]
          },
          "metadata": {
            "tags": []
          },
          "execution_count": 33
        },
        {
          "output_type": "display_data",
          "data": {
            "image/png": "[encoded data removed]",
            "text/plain": [
              "<Figure size 1152x720 with 1 Axes>"
            ]
          },
          "metadata": {
            "tags": [],
            "needs_background": "light"
          }
        }
      ]
    },
    {
      "cell_type": "markdown",
      "metadata": {
        "id": "vM9brzGFq_Pw",
        "colab_type": "text"
      },
      "source": [
        "treating outliers of training data for better model fitment"
      ]
    },
    {
      "cell_type": "code",
      "metadata": {
        "id": "sBAag1V1rCHe",
        "colab_type": "code",
        "colab": {
          "base_uri": "https://localhost:8080/",
          "height": 591
        },
        "outputId": "6f8f78d2-0387-4a44-92b3-089bd312c8cf"
      },
      "source": [
        "from scipy import stats\n",
        "\"we'll drop those values of a columns where (value>97.85th percentile of that columns) or (value<0.13 percentile of that columns)\"\n",
        "train_data = train_data[(np.abs(stats.zscore(train_data)) < 3).all(axis=1)]\n",
        "\"train box-plot\"\n",
        "plt.figure(figsize=[16,10])\n",
        "train_data.boxplot()"
      ],
      "execution_count": 46,
      "outputs": [
        {
          "output_type": "execute_result",
          "data": {
            "text/plain": [
              "<matplotlib.axes._subplots.AxesSubplot at 0x7f042e23d518>"
            ]
          },
          "metadata": {
            "tags": []
          },
          "execution_count": 46
        },
        {
          "output_type": "display_data",
          "data": {
            "image/png": "[encoded data removed]",
            "text/plain": [
              "<Figure size 1152x720 with 1 Axes>"
            ]
          },
          "metadata": {
            "tags": [],
            "needs_background": "light"
          }
        }
      ]
    },
    {
      "cell_type": "code",
      "metadata": {
        "id": "bxyjBP4RtPWv",
        "colab_type": "code",
        "colab": {
          "base_uri": "https://localhost:8080/",
          "height": 34
        },
        "outputId": "864460fb-d169-44c3-d787-ca1e66181424"
      },
      "source": [
        "\"data shape after outlier trearment\"\n",
        "train_data.shape"
      ],
      "execution_count": 47,
      "outputs": [
        {
          "output_type": "execute_result",
          "data": {
            "text/plain": [
              "(316165, 5)"
            ]
          },
          "metadata": {
            "tags": []
          },
          "execution_count": 47
        }
      ]
    },
    {
      "cell_type": "markdown",
      "metadata": {
        "id": "ss8eaXAtaFJj",
        "colab_type": "text"
      },
      "source": [
        "Feature standardization scaling"
      ]
    },
    {
      "cell_type": "code",
      "metadata": {
        "id": "GhgOfUOVZBhU",
        "colab_type": "code",
        "colab": {}
      },
      "source": [
        "from sklearn.preprocessing import StandardScaler\n",
        "\"fitting & transforming on train data\"\n",
        "sc_fit = StandardScaler().fit(train_data.iloc[:, train_data.columns!='Upvotes'].values)\n",
        "train_input_scaled = sc_fit.transform(train_data.iloc[:, train_data.columns!='Upvotes'].values)\n",
        "\"transforming on test data\"\n",
        "test_input_scaled = sc_fit.transform(test_data.values)"
      ],
      "execution_count": 0,
      "outputs": []
    },
    {
      "cell_type": "code",
      "metadata": {
        "id": "YluSLvPqhMj-",
        "colab_type": "code",
        "outputId": "9625df6a-dcad-4337-fcb2-4dc6a0977857",
        "colab": {
          "base_uri": "https://localhost:8080/",
          "height": 118
        }
      },
      "source": [
        "print('scaled train data inputs:\\n',train_input_scaled[:2])\n",
        "print('scaled test data inputs:\\n',test_input_scaled[:2])"
      ],
      "execution_count": 49,
      "outputs": [
        {
          "output_type": "stream",
          "text": [
            "scaled train data inputs:\n",
            " [[-1.42066103 -0.10844929 -0.60279901 -0.39490308]\n",
            " [-1.42066103  2.00370031  3.31082998  0.97206551]]\n",
            "scaled test data inputs:\n",
            " [[-1.42066103  0.05428102 -0.21143611  0.32769774]\n",
            " [-1.0206182   1.85702325  0.96265259 -0.54101983]]\n"
          ],
          "name": "stdout"
        }
      ]
    },
    {
      "cell_type": "markdown",
      "metadata": {
        "id": "fM8Esc7KYDhi",
        "colab_type": "text"
      },
      "source": [
        "Standard scaling of datasets"
      ]
    },
    {
      "cell_type": "code",
      "metadata": {
        "id": "316SX55839_w",
        "colab_type": "code",
        "colab": {}
      },
      "source": [
        "\"splitting train-test data\"\n",
        "from sklearn.model_selection import train_test_split\n",
        "\n",
        "\n",
        "input_features = train_input_scaled\n",
        "target = train_data['Upvotes'].values\n",
        "\n",
        "X_train, X_val, y_train, y_val = train_test_split(input_features, target, test_size=0.1, random_state=10)\n",
        "\n",
        "\n",
        "\"ML models\"\n",
        "# we'll try 6 different models to get best model with best hyper-parameters\n",
        "# will use gridsearchcv o randomizedsearchcv for parameter optimization\n",
        "import numpy as np\n",
        "from sklearn.preprocessing import PolynomialFeatures\n",
        "from sklearn.neighbors import KNeighborsRegressor\n",
        "from sklearn.ensemble import RandomForestRegressor\n",
        "from sklearn.linear_model import LassoLars, Ridge, Lasso\n",
        "from xgboost import XGBRegressor\n",
        "from sklearn.svm import SVR\n",
        "\n",
        "poly5 = PolynomialFeatures(4)\n",
        "\n",
        "lrr = Ridge()\n",
        "llr1 = Lasso()\n",
        "llr = LassoLars()\n",
        "knn = KNeighborsRegressor()\n",
        "rfr = RandomForestRegressor()\n",
        "xgbr = XGBRegressor()\n",
        "svr = SVR()\n",
        "\n",
        "from sklearn.model_selection import GridSearchCV, RandomizedSearchCV\n",
        "from sklearn.metrics import mean_squared_error as mse\n",
        "\n",
        "algos = [lrr, llr1, llr, knn, svr, rfr, xgbr]\n",
        "grid_params = {lrr: {'alpha':[0,0.005,0.01,0.02,0.03,0.04,0.05,0.06,0.07,0.1,0.2,0.5,1,2,5,10]},\n",
        "                llr1: {'alpha':[0,0.005,0.01,0.02,0.03,0.04,0.05,0.06,0.07,0.1,0.2,0.5,1,2,5,10]},\n",
        "                 llr: {'alpha':[0,0.005,0.01,0.02,0.03,0.04,0.05,0.06,0.07,0.08, 0.09,0.1,0.2,0.5,1,2,5,10]},\n",
        "                 knn:{'n_neighbors':[1,3,5,11,15,17,20,30,40,50,70],'weights':['uniform','distance'],'metric':['euclidean','manhattan']},\n",
        "                 svr:{'C': [0.1, 1, 10, 100, 1000],'epsilon': [0.0001, 0.0005, 0.001, 0.005, 0.01, 0.05, 0.1, 0.5, 1, 5, 10],\n",
        "                         'gamma': [1, 0.1, 0.01, 0.001, 0.0001],'kernel': ['linear', 'poly', 'rbf', 'sigmoid']},\n",
        "                  rfr: {'n_estimators': [int(x) for x in np.linspace(start = 10, stop = 200, num = 10)],# Number of trees in random forest\n",
        "                                                 'max_features': ['auto', 'sqrt',None],# Number of features to consider at every split\n",
        "                                                 'max_depth': [int(x) for x in np.linspace(10, 110, num = 11)]+[None],# Maximum number of levels in tree\n",
        "                                                 'min_samples_split': [2, 5, 10],# Minimum number of samples required to split a node\n",
        "                                                 'min_samples_leaf': [1, 2, 4],# Minimum number of samples required at each leaf node\n",
        "                                                 'bootstrap': [True, False]},# Method of selecting samples for training each tree\n",
        "                 xgbr:{'eta':[0.1,0.3,0.5,0.7],'gamma':[0,10,100],'max_depth':[1,3,5,9,11]}}                                     \n"
      ],
      "execution_count": 0,
      "outputs": []
    },
    {
      "cell_type": "code",
      "metadata": {
        "id": "YeIvC8Q34D2L",
        "colab_type": "code",
        "outputId": "ff0866b6-54c1-4cea-b79a-c1003029559b",
        "colab": {
          "base_uri": "https://localhost:8080/",
          "height": 118
        }
      },
      "source": [
        "#%%\n",
        "import time\n",
        "scoring='neg_mean_squared_error'\n",
        "cv_results_list = []\n",
        "best_params_list = []\n",
        "best_cv_rmse_list = []\n",
        "val_rmse_list = []\n",
        "train_time_list = []\n",
        "for algo in algos[2:3]:\n",
        "    num_iter = 2\n",
        "    st = time.time()\n",
        "#    model = GridSearchCV(knn, grid_params[knn], n_jobs=-1, scoring=scoring) # not performing gridsearchcv as it takes lot time\n",
        "    total_param_combinations = np.prod([len(grid_params[algo][par]) for par in list(grid_params[algo].keys())])\n",
        "    print(\"train param, combinations:\\n\",total_param_combinations)\n",
        "    \n",
        "    if (algo==llr) | (algo==lrr) | (algo==llr1):\n",
        "        X_train1 = poly5.fit_transform(X_train)\n",
        "        model = GridSearchCV(estimator=algo, cv=3, scoring=scoring,n_jobs=-1, param_grid=grid_params[algo], refit=True)\n",
        "        model.fit(X_train1, y_train)\n",
        "    else:\n",
        "        model = RandomizedSearchCV(estimator=algo, n_iter=num_iter, cv=3, scoring=scoring,n_jobs=-1, param_distributions=grid_params[algo], refit=True)\n",
        "        model.fit(X_train, y_train)\n",
        "    \n",
        "    \n",
        "    cv_results_list+=[model.cv_results_]\n",
        "    \n",
        "    best_cv_rmse1 = np.sqrt(-max(model.cv_results_['mean_test_score']))\n",
        "    best_cv_rmse_list+=[best_cv_rmse1]\n",
        "    \n",
        "    best_params_list+=[model.best_params_]\n",
        "    \n",
        "    train_time1 = str(round(time.time()-st,2))+' seconds'\n",
        "    train_time_list+=[train_time1]\n",
        "    if (algo==llr) | (algo==lrr) | (algo==llr1):\n",
        "        X_val1 = poly5.transform(X_val)\n",
        "        y_pred = model.predict(X_val1)\n",
        "    else:\n",
        "        y_pred = model.predict(X_val)\n",
        "    \n",
        "    rmse1 = np.sqrt(mse(y_val,y_pred))\n",
        "        \n",
        "    val_rmse_list+=[rmse1]\n",
        "    \n",
        "    print('total_cv_time:',train_time1)\n",
        "    print('avg_cv_rmse:',best_cv_rmse1)\n",
        "    \n",
        "    print('val_rmse:', rmse1)\n",
        "\n",
        "    print(\"best params\", best_params_list[-1])"
      ],
      "execution_count": 51,
      "outputs": [
        {
          "output_type": "stream",
          "text": [
            "train param, combinations:\n",
            " 18\n",
            "total_cv_time: 14.71 seconds\n",
            "avg_cv_rmse: 175.34638071012006\n",
            "val_rmse: 188.80328495138008\n",
            "best params {'alpha': 0.005}\n"
          ],
          "name": "stdout"
        }
      ]
    },
    {
      "cell_type": "markdown",
      "metadata": {
        "id": "QMrb6UQ_kkki",
        "colab_type": "text"
      },
      "source": [
        "prediction on test data"
      ]
    },
    {
      "cell_type": "code",
      "metadata": {
        "id": "6pLWy-Dxkn0l",
        "colab_type": "code",
        "colab": {
          "base_uri": "https://localhost:8080/",
          "height": 34
        },
        "outputId": "b6211026-e47d-4b3f-ced3-348b0081459d"
      },
      "source": [
        "test_data.columns"
      ],
      "execution_count": 52,
      "outputs": [
        {
          "output_type": "execute_result",
          "data": {
            "text/plain": [
              "Index(['Tag', 'Reputation', 'Answers', 'Views'], dtype='object')"
            ]
          },
          "metadata": {
            "tags": []
          },
          "execution_count": 52
        }
      ]
    },
    {
      "cell_type": "code",
      "metadata": {
        "id": "VPlNs3pVEyUv",
        "colab_type": "code",
        "colab": {}
      },
      "source": [
        "X_test = test_input_scaled\n",
        "if algo==llr:\n",
        "  X_test1 = poly5.transform(X_test)\n",
        "  final_pred = model.predict(X_test1)\n",
        "else:  \n",
        "  final_pred = model.predict(X_test)\n",
        "final_submission = pd.DataFrame({'ID':list(test_data1.ID),'Upvotes':list(final_pred)})"
      ],
      "execution_count": 0,
      "outputs": []
    },
    {
      "cell_type": "code",
      "metadata": {
        "id": "LLB41omNFOZq",
        "colab_type": "code",
        "colab": {}
      },
      "source": [
        "final_submission.to_csv('submission_llr4_20_outlier_treatmet_99.87.csv')"
      ],
      "execution_count": 0,
      "outputs": []
    },
    {
      "cell_type": "code",
      "metadata": {
        "id": "f1Zwr_gXtqUO",
        "colab_type": "code",
        "colab": {}
      },
      "source": [
        ""
      ],
      "execution_count": 0,
      "outputs": []
    }
  ]
}