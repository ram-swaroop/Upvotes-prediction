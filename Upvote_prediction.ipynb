{
  "nbformat": 4,
  "nbformat_minor": 0,
  "metadata": {
    "colab": {
      "name": "Upvote-prediction.ipynb",
      "provenance": [],
      "toc_visible": true,
      "authorship_tag": "ABX9TyPbbz9zRBmYue/Zi4biLGDP",
      "include_colab_link": true
    },
    "kernelspec": {
      "name": "python3",
      "display_name": "Python 3"
    },
    "accelerator": "GPU"
  },
  "cells": [
    {
      "cell_type": "markdown",
      "metadata": {
        "id": "view-in-github",
        "colab_type": "text"
      },
      "source": [
        "<a href=\"https://colab.research.google.com/github/ramswaroopbhakar14/Upvotes-prediction/blob/master/Upvote_prediction.ipynb\" target=\"_parent\"><img src=\"https://colab.research.google.com/assets/colab-badge.svg\" alt=\"Open In Colab\"/></a>"
      ]
    },
    {
      "cell_type": "code",
      "metadata": {
        "id": "TwY_dAmW2SD_",
        "colab_type": "code",
        "outputId": "4c733e80-a265-447c-81a8-41751a40da82",
        "colab": {
          "base_uri": "https://localhost:8080/",
          "height": 118
        }
      },
      "source": [
        "! git clone https://github.com/ramswaroopbhakar14/Upvotes-prediction.git"
      ],
      "execution_count": 1,
      "outputs": [
        {
          "output_type": "stream",
          "text": [
            "Cloning into 'Upvotes-prediction'...\n",
            "remote: Enumerating objects: 17, done.\u001b[K\n",
            "remote: Counting objects:   5% (1/17)\u001b[K\rremote: Counting objects:  11% (2/17)\u001b[K\rremote: Counting objects:  17% (3/17)\u001b[K\rremote: Counting objects:  23% (4/17)\u001b[K\rremote: Counting objects:  29% (5/17)\u001b[K\rremote: Counting objects:  35% (6/17)\u001b[K\rremote: Counting objects:  41% (7/17)\u001b[K\rremote: Counting objects:  47% (8/17)\u001b[K\rremote: Counting objects:  52% (9/17)\u001b[K\rremote: Counting objects:  58% (10/17)\u001b[K\rremote: Counting objects:  64% (11/17)\u001b[K\rremote: Counting objects:  70% (12/17)\u001b[K\rremote: Counting objects:  76% (13/17)\u001b[K\rremote: Counting objects:  82% (14/17)\u001b[K\rremote: Counting objects:  88% (15/17)\u001b[K\rremote: Counting objects:  94% (16/17)\u001b[K\rremote: Counting objects: 100% (17/17)\u001b[K\rremote: Counting objects: 100% (17/17), done.\u001b[K\n",
            "remote: Compressing objects: 100% (15/15), done.\u001b[K\n",
            "remote: Total 17 (delta 3), reused 7 (delta 0), pack-reused 0\u001b[K\n",
            "Unpacking objects: 100% (17/17), done.\n"
          ],
          "name": "stdout"
        }
      ]
    },
    {
      "cell_type": "code",
      "metadata": {
        "id": "1uADx6GP2aQq",
        "colab_type": "code",
        "outputId": "5ed519a8-2665-4db3-a5ce-45c85ef4b57a",
        "colab": {
          "base_uri": "https://localhost:8080/",
          "height": 34
        }
      },
      "source": [
        "%cd /content/Upvotes-prediction/data"
      ],
      "execution_count": 2,
      "outputs": [
        {
          "output_type": "stream",
          "text": [
            "/content/Upvotes-prediction/data\n"
          ],
          "name": "stdout"
        }
      ]
    },
    {
      "cell_type": "code",
      "metadata": {
        "id": "Nw46xyVN227P",
        "colab_type": "code",
        "colab": {}
      },
      "source": [
        "import pandas as pd\n",
        "train_data = pd.read_csv('train_data.csv')\n",
        "test_data = pd.read_csv('test_data.csv')\n",
        "\n",
        "\"creating copy of both train & test for further uses\"\n",
        "train_data1 = train_data.copy()\n",
        "test_data1 = test_data.copy()"
      ],
      "execution_count": 0,
      "outputs": []
    },
    {
      "cell_type": "code",
      "metadata": {
        "id": "wR_U690f3XQ6",
        "colab_type": "code",
        "outputId": "9521166a-0362-4cca-fc8d-e91ef034b883",
        "colab": {
          "base_uri": "https://localhost:8080/",
          "height": 84
        }
      },
      "source": [
        "print(\"train columns:\\n\",train_data.columns)\n",
        "print(\"test columns:\\n\",test_data.columns)"
      ],
      "execution_count": 4,
      "outputs": [
        {
          "output_type": "stream",
          "text": [
            "train columns:\n",
            " Index(['ID', 'Tag', 'Reputation', 'Answers', 'Username', 'Views', 'Upvotes'], dtype='object')\n",
            "test columns:\n",
            " Index(['ID', 'Tag', 'Reputation', 'Answers', 'Username', 'Views'], dtype='object')\n"
          ],
          "name": "stdout"
        }
      ]
    },
    {
      "cell_type": "markdown",
      "metadata": {
        "id": "9xGxzoCpZDbN",
        "colab_type": "text"
      },
      "source": [
        "Print train & test head data"
      ]
    },
    {
      "cell_type": "code",
      "metadata": {
        "id": "Z1zaP2fGZGy_",
        "colab_type": "code",
        "outputId": "76b2fb73-7206-4f74-cc93-8dc60b493b2d",
        "colab": {
          "base_uri": "https://localhost:8080/",
          "height": 252
        }
      },
      "source": [
        "print(\"train sample:\\n\",train_data.head())\n",
        "print(\"test sample:\\n\",test_data.head())"
      ],
      "execution_count": 5,
      "outputs": [
        {
          "output_type": "stream",
          "text": [
            "train sample:\n",
            "        ID Tag  Reputation  Answers  Username    Views  Upvotes\n",
            "0   52664   a      3942.0      2.0    155623   7855.0     42.0\n",
            "1  327662   a     26046.0     12.0     21781  55801.0   1175.0\n",
            "2  468453   c      1358.0      4.0     56177   8067.0     60.0\n",
            "3   96996   a       264.0      3.0    168793  27064.0      9.0\n",
            "4  131465   c      4271.0      4.0    112223  13986.0     83.0\n",
            "test sample:\n",
            "        ID Tag  Reputation  Answers  Username    Views\n",
            "0  366953   a      5645.0      3.0     50652  33200.0\n",
            "1   71864   c     24511.0      6.0     37685   2730.0\n",
            "2  141692   i       927.0      1.0    135293  21167.0\n",
            "3  316833   i        21.0      6.0    166998  18528.0\n",
            "4  440445   i      4475.0     10.0     53504  57240.0\n"
          ],
          "name": "stdout"
        }
      ]
    },
    {
      "cell_type": "markdown",
      "metadata": {
        "id": "PZFRxbbTZf2i",
        "colab_type": "text"
      },
      "source": [
        "dropping non-important features"
      ]
    },
    {
      "cell_type": "code",
      "metadata": {
        "id": "FTiHlbFWZitr",
        "colab_type": "code",
        "colab": {}
      },
      "source": [
        "train_data = train_data1.drop(columns=['ID','Username'])\n",
        "test_data = test_data1.drop(columns=['ID','Username'])"
      ],
      "execution_count": 0,
      "outputs": []
    },
    {
      "cell_type": "code",
      "metadata": {
        "id": "CmTxqz_S3btn",
        "colab_type": "code",
        "outputId": "78d7dce4-0cb0-47dc-8d67-8f36ef5ffec4",
        "colab": {
          "base_uri": "https://localhost:8080/",
          "height": 646
        }
      },
      "source": [
        "import seaborn as sns\n",
        "import matplotlib.pyplot as plt\n",
        "plt.figure()\n",
        "plt.title(\"corr-heat-map for train data\")\n",
        "\"find correlation matrix\"\n",
        "train_corr = train_data.corr()\n",
        "\"generating heatmap using train_corr\"\n",
        "sns.heatmap(train_corr) # we don't see any var-pair haivng > 0.5 correlation, hence we'll be directly going for model building\n",
        "\n",
        "plt.figure()\n",
        "plt.title(\"\\n\\ncorr-heat-map for test data\")\n",
        "\"find correlation matrix for test data\"\n",
        "test_corr = test_data.corr()\n",
        "\"generating heatmap using test_corr\"\n",
        "sns.heatmap(test_corr) "
      ],
      "execution_count": 7,
      "outputs": [
        {
          "output_type": "stream",
          "text": [
            "/usr/local/lib/python3.6/dist-packages/statsmodels/tools/_testing.py:19: FutureWarning: pandas.util.testing is deprecated. Use the functions in the public API at pandas.testing instead.\n",
            "  import pandas.util.testing as tm\n"
          ],
          "name": "stderr"
        },
        {
          "output_type": "execute_result",
          "data": {
            "text/plain": [
              "<matplotlib.axes._subplots.AxesSubplot at 0x7fed07794e48>"
            ]
          },
          "metadata": {
            "tags": []
          },
          "execution_count": 7
        },
        {
          "output_type": "display_data",
          "data": {
            "image/png": "[encoded data removed]",
            "text/plain": [
              "<Figure size 432x288 with 2 Axes>"
            ]
          },
          "metadata": {
            "tags": [],
            "needs_background": "light"
          }
        },
        {
          "output_type": "display_data",
          "data": {
            "image/png": "[encoded data removed]",
            "text/plain": [
              "<Figure size 432x288 with 2 Axes>"
            ]
          },
          "metadata": {
            "tags": [],
            "needs_background": "light"
          }
        }
      ]
    },
    {
      "cell_type": "markdown",
      "metadata": {
        "id": "XX5ohJqyalfK",
        "colab_type": "text"
      },
      "source": [
        "Converting car=tegorical to numerical features ('Tag')"
      ]
    },
    {
      "cell_type": "code",
      "metadata": {
        "id": "udbcDvsjaqwq",
        "colab_type": "code",
        "colab": {}
      },
      "source": [
        "\"Converting categorical str to continuous form usig dummy variables\"\n",
        "train_data = pd.concat([train_data.loc[:, train_data.columns!='Tag'], pd.get_dummies(train_data[['Tag']])], axis=1)\n",
        "test_data = pd.concat([test_data.loc[:, test_data.columns!='Tag'], pd.get_dummies(test_data[['Tag']])], axis=1)"
      ],
      "execution_count": 0,
      "outputs": []
    },
    {
      "cell_type": "code",
      "metadata": {
        "id": "GNQV1D_abPHG",
        "colab_type": "code",
        "outputId": "dbe377ee-ae24-4a2a-94ba-5c6d5d000053",
        "colab": {
          "base_uri": "https://localhost:8080/",
          "height": 151
        }
      },
      "source": [
        "print(\"train columns:\\n\",train_data.columns)\n",
        "print(\"test columns:\\n\",test_data.columns)"
      ],
      "execution_count": 9,
      "outputs": [
        {
          "output_type": "stream",
          "text": [
            "train columns:\n",
            " Index(['Reputation', 'Answers', 'Views', 'Upvotes', 'Tag_a', 'Tag_c', 'Tag_h',\n",
            "       'Tag_i', 'Tag_j', 'Tag_o', 'Tag_p', 'Tag_r', 'Tag_s', 'Tag_x'],\n",
            "      dtype='object')\n",
            "test columns:\n",
            " Index(['Reputation', 'Answers', 'Views', 'Tag_a', 'Tag_c', 'Tag_h', 'Tag_i',\n",
            "       'Tag_j', 'Tag_o', 'Tag_p', 'Tag_r', 'Tag_s', 'Tag_x'],\n",
            "      dtype='object')\n"
          ],
          "name": "stdout"
        }
      ]
    },
    {
      "cell_type": "code",
      "metadata": {
        "id": "kEYKeXJb3Y3b",
        "colab_type": "code",
        "outputId": "5f9ed24d-677f-431c-e5a3-06399ae6f243",
        "colab": {
          "base_uri": "https://localhost:8080/",
          "height": 420
        }
      },
      "source": [
        "\"data pre-processing\"\n",
        "train_summary = train_data.describe()\n",
        "test_summary = test_data.describe()\n",
        "\n",
        "print(train_summary)\n",
        "print(test_summary)\n",
        "\n",
        "\"missing data summary\"\n",
        "summary_na_train= [train_data[x].isna().sum() for x in train_data.columns] # we don't have any nan values in this data\n",
        "summary_na_test= [test_data[x].isna().sum() for x in test_data.columns] # we don't have any nan values in this data\n",
        "\n",
        "print(summary_na_train)\n",
        "print(summary_na_test)"
      ],
      "execution_count": 10,
      "outputs": [
        {
          "output_type": "stream",
          "text": [
            "         Reputation        Answers  ...          Tag_s          Tag_x\n",
            "count  3.300450e+05  330045.000000  ...  330045.000000  330045.000000\n",
            "mean   7.773147e+03       3.917672  ...       0.070666       0.021143\n",
            "std    2.706141e+04       3.579515  ...       0.256267       0.143860\n",
            "min    0.000000e+00       0.000000  ...       0.000000       0.000000\n",
            "25%    2.820000e+02       2.000000  ...       0.000000       0.000000\n",
            "50%    1.236000e+03       3.000000  ...       0.000000       0.000000\n",
            "75%    5.118000e+03       5.000000  ...       0.000000       0.000000\n",
            "max    1.042428e+06      76.000000  ...       1.000000       1.000000\n",
            "\n",
            "[8 rows x 14 columns]\n",
            "         Reputation        Answers  ...          Tag_s          Tag_x\n",
            "count  1.414480e+05  141448.000000  ...  141448.000000  141448.000000\n",
            "mean   7.920927e+03       3.914873  ...       0.071319       0.021167\n",
            "std    2.791072e+04       3.577460  ...       0.257359       0.143941\n",
            "min    0.000000e+00       0.000000  ...       0.000000       0.000000\n",
            "25%    2.860000e+02       2.000000  ...       0.000000       0.000000\n",
            "50%    1.245000e+03       3.000000  ...       0.000000       0.000000\n",
            "75%    5.123000e+03       5.000000  ...       0.000000       0.000000\n",
            "max    1.042428e+06      73.000000  ...       1.000000       1.000000\n",
            "\n",
            "[8 rows x 13 columns]\n",
            "[0, 0, 0, 0, 0, 0, 0, 0, 0, 0, 0, 0, 0, 0]\n",
            "[0, 0, 0, 0, 0, 0, 0, 0, 0, 0, 0, 0, 0]\n"
          ],
          "name": "stdout"
        }
      ]
    },
    {
      "cell_type": "markdown",
      "metadata": {
        "id": "ss8eaXAtaFJj",
        "colab_type": "text"
      },
      "source": [
        "Feature standardization scaling"
      ]
    },
    {
      "cell_type": "code",
      "metadata": {
        "id": "GhgOfUOVZBhU",
        "colab_type": "code",
        "colab": {}
      },
      "source": [
        "from sklearn.preprocessing import StandardScaler\n",
        "\"fitting & transforming on train data\"\n",
        "sc_fit = StandardScaler().fit(train_data.iloc[:, train_data.columns!='Upvotes'].values)\n",
        "train_input_scaled = sc_fit.transform(train_data.iloc[:, train_data.columns!='Upvotes'].values)\n",
        "\"transforming on test data\"\n",
        "test_input_scaled = sc_fit.transform(test_data.values)"
      ],
      "execution_count": 0,
      "outputs": []
    },
    {
      "cell_type": "code",
      "metadata": {
        "id": "YluSLvPqhMj-",
        "colab_type": "code",
        "outputId": "5e16892e-6087-4935-9989-1eee89cceb88",
        "colab": {
          "base_uri": "https://localhost:8080/",
          "height": 252
        }
      },
      "source": [
        "print('scaled train data inputs:\\n',train_input_scaled[:2])\n",
        "print('scaled test data inputs:\\n',test_input_scaled[:2])"
      ],
      "execution_count": 15,
      "outputs": [
        {
          "output_type": "stream",
          "text": [
            "scaled train data inputs:\n",
            " [[-0.14157253 -0.53573597 -0.26915833  3.06808681 -0.53037275 -0.25777263\n",
            "  -0.32993107 -0.52931282 -0.21472015 -0.38914639 -0.19792598 -0.27575268\n",
            "  -0.14696678]\n",
            " [ 0.67523751  2.25794312  0.32308687  3.06808681 -0.53037275 -0.25777263\n",
            "  -0.32993107 -0.52931282 -0.21472015 -0.38914639 -0.19792598 -0.27575268\n",
            "  -0.14696678]]\n",
            "scaled test data inputs:\n",
            " [[-0.0786415  -0.25636806  0.04391168  3.06808681 -0.53037275 -0.25777263\n",
            "  -0.32993107 -0.52931282 -0.21472015 -0.38914639 -0.19792598 -0.27575268\n",
            "  -0.14696678]\n",
            " [ 0.61851459  0.58173567 -0.33246406 -0.32593602  1.88546641 -0.25777263\n",
            "  -0.32993107 -0.52931282 -0.21472015 -0.38914639 -0.19792598 -0.27575268\n",
            "  -0.14696678]]\n"
          ],
          "name": "stdout"
        }
      ]
    },
    {
      "cell_type": "markdown",
      "metadata": {
        "id": "fM8Esc7KYDhi",
        "colab_type": "text"
      },
      "source": [
        "Standard scaling of datasets"
      ]
    },
    {
      "cell_type": "code",
      "metadata": {
        "id": "3on8OkIfYIos",
        "colab_type": "code",
        "colab": {}
      },
      "source": [
        ""
      ],
      "execution_count": 0,
      "outputs": []
    },
    {
      "cell_type": "code",
      "metadata": {
        "id": "316SX55839_w",
        "colab_type": "code",
        "colab": {}
      },
      "source": [
        "\"splitting train-test data\"\n",
        "from sklearn.model_selection import train_test_split\n",
        "\n",
        "\n",
        "input_features = train_input_scaled\n",
        "target = train_data['Upvotes'].values\n",
        "\n",
        "X_train, X_val, y_train, y_val = train_test_split(input_features, target, random_state=10)\n",
        "\n",
        "\n",
        "\"ML models\"\n",
        "# we'll try 6 different models to get best model with best hyper-parameters\n",
        "# will use gridsearchcv o randomizedsearchcv for parameter optimization\n",
        "import numpy as np\n",
        "from sklearn.preprocessing import PolynomialFeatures\n",
        "from sklearn.neighbors import KNeighborsRegressor\n",
        "from sklearn.ensemble import RandomForestRegressor\n",
        "from sklearn.linear_model import LassoLars\n",
        "from xgboost import XGBRegressor\n",
        "from sklearn.svm import SVR\n",
        "\n",
        "poly5 = PolynomialFeatures(3)\n",
        "\n",
        "llr = LassoLars()\n",
        "knn = KNeighborsRegressor()\n",
        "rfr = RandomForestRegressor()\n",
        "xgbr = XGBRegressor()\n",
        "svr = SVR()\n",
        "\n",
        "from sklearn.model_selection import GridSearchCV, RandomizedSearchCV\n",
        "from sklearn.metrics import mean_squared_error as mse\n",
        "\n",
        "algos = [llr, knn, svr, rfr, xgbr]\n",
        "grid_params = {llr: {'alpha':[0,0.005,0.01,0.02,0.05,0.1,0.2,0.5,1,2,5,10]},\n",
        "                 knn:{'n_neighbors':[1,3,5,11,15,17,20,30,40,50,70],'weights':['uniform','distance'],'metric':['euclidean','manhattan']},\n",
        "                 svr:{'C': [0.1, 1, 10, 100, 1000],'epsilon': [0.0001, 0.0005, 0.001, 0.005, 0.01, 0.05, 0.1, 0.5, 1, 5, 10],\n",
        "                         'gamma': [1, 0.1, 0.01, 0.001, 0.0001],'kernel': ['linear', 'poly', 'rbf', 'sigmoid']},\n",
        "                  rfr: {'n_estimators': [int(x) for x in np.linspace(start = 10, stop = 200, num = 10)],# Number of trees in random forest\n",
        "                                                 'max_features': ['auto', 'sqrt',None],# Number of features to consider at every split\n",
        "                                                 'max_depth': [int(x) for x in np.linspace(10, 110, num = 11)]+[None],# Maximum number of levels in tree\n",
        "                                                 'min_samples_split': [2, 5, 10],# Minimum number of samples required to split a node\n",
        "                                                 'min_samples_leaf': [1, 2, 4],# Minimum number of samples required at each leaf node\n",
        "                                                 'bootstrap': [True, False]},# Method of selecting samples for training each tree\n",
        "                 xgbr:{'eta':[0.1,0.3,0.5,0.7],'gamma':[0,10,100],'max_depth':[1,3,5,9,11]}}                                     \n"
      ],
      "execution_count": 0,
      "outputs": []
    },
    {
      "cell_type": "code",
      "metadata": {
        "id": "YeIvC8Q34D2L",
        "colab_type": "code",
        "outputId": "0d7a01cd-bf11-420d-f042-c3270e76552f",
        "colab": {
          "base_uri": "https://localhost:8080/",
          "height": 154
        }
      },
      "source": [
        "#%%\n",
        "import time\n",
        "scoring='neg_mean_squared_error'\n",
        "cv_results_list = []\n",
        "best_params_list = []\n",
        "best_cv_rmse_list = []\n",
        "val_rmse_list = []\n",
        "train_time_list = []\n",
        "for algo in algos[:1]:\n",
        "    num_iter = 20\n",
        "    st = time.time()\n",
        "#    model = GridSearchCV(knn, grid_params[knn], n_jobs=-1, scoring=scoring) # not performing gridsearchcv as it takes lot time\n",
        "    total_param_combinations = np.prod([len(grid_params[algo][par]) for par in list(grid_params[algo].keys())])\n",
        "    print(\"train param, combinations:\\n\",total_param_combinations)\n",
        "    \n",
        "    if algo==llr:\n",
        "        X_train1 = poly5.fit_transform(X_train)\n",
        "        model = GridSearchCV(estimator=algo, cv=3, scoring=scoring,n_jobs=-1, param_grid=grid_params[algo], refit=True)\n",
        "        model.fit(X_train1, y_train)\n",
        "    else:\n",
        "        model = RandomizedSearchCV(estimator=algo, n_iter=num_iter, cv=3, scoring=scoring,n_jobs=-1, param_distributions=grid_params[algo], refit=True)\n",
        "        model.fit(X_train, y_train)\n",
        "    \n",
        "    \n",
        "    cv_results_list+=[model.cv_results_]\n",
        "    \n",
        "    best_cv_rmse1 = np.sqrt(-max(model.cv_results_['mean_test_score']))\n",
        "    best_cv_rmse_list+=[best_cv_rmse1]\n",
        "    \n",
        "    best_params_list+=[model.best_params_]\n",
        "    \n",
        "    train_time1 = str(round(time.time()-st,2))+' seconds'\n",
        "    train_time_list+=[train_time1]\n",
        "    if algo==llr:\n",
        "        X_val1 = poly5.transform(X_val)\n",
        "        y_pred = model.predict(X_val1)\n",
        "    else:\n",
        "        y_pred = model.predict(X_val)\n",
        "    \n",
        "    rmse1 = np.sqrt(mse(y_val,y_pred))\n",
        "        \n",
        "    val_rmse_list+=[rmse1]\n",
        "    \n",
        "    print('total_cv_time:',train_time1)\n",
        "    print('avg_cv_rmse:',best_cv_rmse1)\n",
        "    \n",
        "    print('val_rmse:', rmse1)"
      ],
      "execution_count": 20,
      "outputs": [
        {
          "output_type": "stream",
          "text": [
            "train param, combinations:\n",
            " 12\n"
          ],
          "name": "stdout"
        },
        {
          "output_type": "stream",
          "text": [
            "/usr/local/lib/python3.6/dist-packages/joblib/externals/loky/process_executor.py:706: UserWarning: A worker stopped while some jobs were given to the executor. This can be caused by a too short worker timeout or by a memory leak.\n",
            "  \"timeout or by a memory leak.\", UserWarning\n"
          ],
          "name": "stderr"
        },
        {
          "output_type": "stream",
          "text": [
            "total_cv_time: 91.48 seconds\n",
            "avg_cv_rmse: 1131.3502170925633\n",
            "val_rmse: 1390.1705840563795\n"
          ],
          "name": "stdout"
        }
      ]
    },
    {
      "cell_type": "code",
      "metadata": {
        "id": "aQb5sN0ZaHNR",
        "colab_type": "code",
        "colab": {
          "base_uri": "https://localhost:8080/",
          "height": 34
        },
        "outputId": "56d4b931-8619-4b60-beb2-b1d61e94714c"
      },
      "source": [
        "best_params_list"
      ],
      "execution_count": 21,
      "outputs": [
        {
          "output_type": "execute_result",
          "data": {
            "text/plain": [
              "[{'alpha': 0.05}]"
            ]
          },
          "metadata": {
            "tags": []
          },
          "execution_count": 21
        }
      ]
    },
    {
      "cell_type": "code",
      "metadata": {
        "id": "MjKaq0gE4Qkx",
        "colab_type": "code",
        "colab": {}
      },
      "source": [
        "test_data = pd.read_csv('test_data.csv')"
      ],
      "execution_count": 0,
      "outputs": []
    },
    {
      "cell_type": "code",
      "metadata": {
        "id": "wc8zJiRtD7eG",
        "colab_type": "code",
        "outputId": "5f09b562-4c52-451f-89bd-a358b70ad88e",
        "colab": {
          "base_uri": "https://localhost:8080/",
          "height": 34
        }
      },
      "source": [
        "test_data.columns"
      ],
      "execution_count": 0,
      "outputs": [
        {
          "output_type": "execute_result",
          "data": {
            "text/plain": [
              "Index(['ID', 'Tag', 'Reputation', 'Answers', 'Username', 'Views'], dtype='object')"
            ]
          },
          "metadata": {
            "tags": []
          },
          "execution_count": 22
        }
      ]
    },
    {
      "cell_type": "code",
      "metadata": {
        "id": "qQRV4PuPED_K",
        "colab_type": "code",
        "outputId": "e65c09ff-829d-49ba-e8f0-e262a7b6e13c",
        "colab": {
          "base_uri": "https://localhost:8080/",
          "height": 195
        }
      },
      "source": [
        "test_data.head()"
      ],
      "execution_count": 0,
      "outputs": [
        {
          "output_type": "execute_result",
          "data": {
            "text/html": [
              "<div>\n",
              "<style scoped>\n",
              "    .dataframe tbody tr th:only-of-type {\n",
              "        vertical-align: middle;\n",
              "    }\n",
              "\n",
              "    .dataframe tbody tr th {\n",
              "        vertical-align: top;\n",
              "    }\n",
              "\n",
              "    .dataframe thead th {\n",
              "        text-align: right;\n",
              "    }\n",
              "</style>\n",
              "<table border=\"1\" class=\"dataframe\">\n",
              "  <thead>\n",
              "    <tr style=\"text-align: right;\">\n",
              "      <th></th>\n",
              "      <th>ID</th>\n",
              "      <th>Tag</th>\n",
              "      <th>Reputation</th>\n",
              "      <th>Answers</th>\n",
              "      <th>Username</th>\n",
              "      <th>Views</th>\n",
              "    </tr>\n",
              "  </thead>\n",
              "  <tbody>\n",
              "    <tr>\n",
              "      <th>0</th>\n",
              "      <td>366953</td>\n",
              "      <td>a</td>\n",
              "      <td>5645.0</td>\n",
              "      <td>3.0</td>\n",
              "      <td>50652</td>\n",
              "      <td>33200.0</td>\n",
              "    </tr>\n",
              "    <tr>\n",
              "      <th>1</th>\n",
              "      <td>71864</td>\n",
              "      <td>c</td>\n",
              "      <td>24511.0</td>\n",
              "      <td>6.0</td>\n",
              "      <td>37685</td>\n",
              "      <td>2730.0</td>\n",
              "    </tr>\n",
              "    <tr>\n",
              "      <th>2</th>\n",
              "      <td>141692</td>\n",
              "      <td>i</td>\n",
              "      <td>927.0</td>\n",
              "      <td>1.0</td>\n",
              "      <td>135293</td>\n",
              "      <td>21167.0</td>\n",
              "    </tr>\n",
              "    <tr>\n",
              "      <th>3</th>\n",
              "      <td>316833</td>\n",
              "      <td>i</td>\n",
              "      <td>21.0</td>\n",
              "      <td>6.0</td>\n",
              "      <td>166998</td>\n",
              "      <td>18528.0</td>\n",
              "    </tr>\n",
              "    <tr>\n",
              "      <th>4</th>\n",
              "      <td>440445</td>\n",
              "      <td>i</td>\n",
              "      <td>4475.0</td>\n",
              "      <td>10.0</td>\n",
              "      <td>53504</td>\n",
              "      <td>57240.0</td>\n",
              "    </tr>\n",
              "  </tbody>\n",
              "</table>\n",
              "</div>"
            ],
            "text/plain": [
              "       ID Tag  Reputation  Answers  Username    Views\n",
              "0  366953   a      5645.0      3.0     50652  33200.0\n",
              "1   71864   c     24511.0      6.0     37685   2730.0\n",
              "2  141692   i       927.0      1.0    135293  21167.0\n",
              "3  316833   i        21.0      6.0    166998  18528.0\n",
              "4  440445   i      4475.0     10.0     53504  57240.0"
            ]
          },
          "metadata": {
            "tags": []
          },
          "execution_count": 23
        }
      ]
    },
    {
      "cell_type": "code",
      "metadata": {
        "id": "frXaoLJ0ENzD",
        "colab_type": "code",
        "colab": {}
      },
      "source": [
        "\"Converting categorical str to continuous form usig dummy variables\"\n",
        "test_data1 = pd.concat([test_data.loc[:, test_data.columns!='Tag'], pd.get_dummies(test_data[['Tag']])], axis=1)\n",
        "\n",
        "test_inputs = test_data1.drop(columns=['ID','Username']).values"
      ],
      "execution_count": 0,
      "outputs": []
    },
    {
      "cell_type": "code",
      "metadata": {
        "id": "VPlNs3pVEyUv",
        "colab_type": "code",
        "colab": {}
      },
      "source": [
        "final_pred = model.predict(test_inputs)\n",
        "final_submission = pd.DataFrame({'ID':list(test_data.ID),'Upvotes':list(final_pred)})"
      ],
      "execution_count": 0,
      "outputs": []
    },
    {
      "cell_type": "code",
      "metadata": {
        "id": "lZKytJvcGi9w",
        "colab_type": "code",
        "outputId": "f642f741-8521-4609-a677-de413c857047",
        "colab": {
          "base_uri": "https://localhost:8080/",
          "height": 252
        }
      },
      "source": [
        "!git add -A"
      ],
      "execution_count": 0,
      "outputs": [
        {
          "output_type": "stream",
          "text": [
            "warning: adding embedded git repository: data/Upvotes-prediction\n",
            "hint: You've added another git repository inside your current repository.\n",
            "hint: Clones of the outer repository will not contain the contents of\n",
            "hint: the embedded repository and will not know how to obtain it.\n",
            "hint: If you meant to add a submodule, use:\n",
            "hint: \n",
            "hint: \tgit submodule add <url> data/Upvotes-prediction\n",
            "hint: \n",
            "hint: If you added this path by mistake, you can remove it from the\n",
            "hint: index with:\n",
            "hint: \n",
            "hint: \tgit rm --cached data/Upvotes-prediction\n",
            "hint: \n",
            "hint: See \"git help submodule\" for more information.\n"
          ],
          "name": "stdout"
        }
      ]
    },
    {
      "cell_type": "code",
      "metadata": {
        "id": "LLB41omNFOZq",
        "colab_type": "code",
        "colab": {}
      },
      "source": [
        "final_submission.to_csv(r'D:\\Analytics vidhya\\Predict number of upvotes\\data\\submission_xgbr_20.csv')"
      ],
      "execution_count": 0,
      "outputs": []
    },
    {
      "cell_type": "code",
      "metadata": {
        "id": "dqbKAtrIFfQS",
        "colab_type": "code",
        "outputId": "9f1bc4fb-6a26-4888-8c08-21fa74e68b62",
        "colab": {
          "base_uri": "https://localhost:8080/",
          "height": 337
        }
      },
      "source": [
        "from google.colab import files\n",
        "final_submission.to_csv('filename.csv') \n",
        "files.download('filename.csv')"
      ],
      "execution_count": 0,
      "outputs": [
        {
          "output_type": "error",
          "ename": "MessageError",
          "evalue": "ignored",
          "traceback": [
            "\u001b[0;31m---------------------------------------------------------------------------\u001b[0m",
            "\u001b[0;31mMessageError\u001b[0m                              Traceback (most recent call last)",
            "\u001b[0;32m<ipython-input-31-22aa4c88b998>\u001b[0m in \u001b[0;36m<module>\u001b[0;34m()\u001b[0m\n\u001b[1;32m      1\u001b[0m \u001b[0;32mfrom\u001b[0m \u001b[0mgoogle\u001b[0m\u001b[0;34m.\u001b[0m\u001b[0mcolab\u001b[0m \u001b[0;32mimport\u001b[0m \u001b[0mfiles\u001b[0m\u001b[0;34m\u001b[0m\u001b[0;34m\u001b[0m\u001b[0m\n\u001b[1;32m      2\u001b[0m \u001b[0mfinal_submission\u001b[0m\u001b[0;34m.\u001b[0m\u001b[0mto_csv\u001b[0m\u001b[0;34m(\u001b[0m\u001b[0;34m'filename.csv'\u001b[0m\u001b[0;34m)\u001b[0m\u001b[0;34m\u001b[0m\u001b[0;34m\u001b[0m\u001b[0m\n\u001b[0;32m----> 3\u001b[0;31m \u001b[0mfiles\u001b[0m\u001b[0;34m.\u001b[0m\u001b[0mdownload\u001b[0m\u001b[0;34m(\u001b[0m\u001b[0;34m'filename.csv'\u001b[0m\u001b[0;34m)\u001b[0m\u001b[0;34m\u001b[0m\u001b[0;34m\u001b[0m\u001b[0m\n\u001b[0m",
            "\u001b[0;32m/usr/local/lib/python3.6/dist-packages/google/colab/files.py\u001b[0m in \u001b[0;36mdownload\u001b[0;34m(filename)\u001b[0m\n\u001b[1;32m    176\u001b[0m       \u001b[0;34m'port'\u001b[0m\u001b[0;34m:\u001b[0m \u001b[0mport\u001b[0m\u001b[0;34m,\u001b[0m\u001b[0;34m\u001b[0m\u001b[0;34m\u001b[0m\u001b[0m\n\u001b[1;32m    177\u001b[0m       \u001b[0;34m'path'\u001b[0m\u001b[0;34m:\u001b[0m \u001b[0m_os\u001b[0m\u001b[0;34m.\u001b[0m\u001b[0mpath\u001b[0m\u001b[0;34m.\u001b[0m\u001b[0mabspath\u001b[0m\u001b[0;34m(\u001b[0m\u001b[0mfilename\u001b[0m\u001b[0;34m)\u001b[0m\u001b[0;34m,\u001b[0m\u001b[0;34m\u001b[0m\u001b[0;34m\u001b[0m\u001b[0m\n\u001b[0;32m--> 178\u001b[0;31m       \u001b[0;34m'name'\u001b[0m\u001b[0;34m:\u001b[0m \u001b[0m_os\u001b[0m\u001b[0;34m.\u001b[0m\u001b[0mpath\u001b[0m\u001b[0;34m.\u001b[0m\u001b[0mbasename\u001b[0m\u001b[0;34m(\u001b[0m\u001b[0mfilename\u001b[0m\u001b[0;34m)\u001b[0m\u001b[0;34m,\u001b[0m\u001b[0;34m\u001b[0m\u001b[0;34m\u001b[0m\u001b[0m\n\u001b[0m\u001b[1;32m    179\u001b[0m   })\n",
            "\u001b[0;32m/usr/local/lib/python3.6/dist-packages/google/colab/output/_js.py\u001b[0m in \u001b[0;36meval_js\u001b[0;34m(script, ignore_result)\u001b[0m\n\u001b[1;32m     37\u001b[0m   \u001b[0;32mif\u001b[0m \u001b[0mignore_result\u001b[0m\u001b[0;34m:\u001b[0m\u001b[0;34m\u001b[0m\u001b[0;34m\u001b[0m\u001b[0m\n\u001b[1;32m     38\u001b[0m     \u001b[0;32mreturn\u001b[0m\u001b[0;34m\u001b[0m\u001b[0;34m\u001b[0m\u001b[0m\n\u001b[0;32m---> 39\u001b[0;31m   \u001b[0;32mreturn\u001b[0m \u001b[0m_message\u001b[0m\u001b[0;34m.\u001b[0m\u001b[0mread_reply_from_input\u001b[0m\u001b[0;34m(\u001b[0m\u001b[0mrequest_id\u001b[0m\u001b[0;34m)\u001b[0m\u001b[0;34m\u001b[0m\u001b[0;34m\u001b[0m\u001b[0m\n\u001b[0m\u001b[1;32m     40\u001b[0m \u001b[0;34m\u001b[0m\u001b[0m\n\u001b[1;32m     41\u001b[0m \u001b[0;34m\u001b[0m\u001b[0m\n",
            "\u001b[0;32m/usr/local/lib/python3.6/dist-packages/google/colab/_message.py\u001b[0m in \u001b[0;36mread_reply_from_input\u001b[0;34m(message_id, timeout_sec)\u001b[0m\n\u001b[1;32m    104\u001b[0m         reply.get('colab_msg_id') == message_id):\n\u001b[1;32m    105\u001b[0m       \u001b[0;32mif\u001b[0m \u001b[0;34m'error'\u001b[0m \u001b[0;32min\u001b[0m \u001b[0mreply\u001b[0m\u001b[0;34m:\u001b[0m\u001b[0;34m\u001b[0m\u001b[0;34m\u001b[0m\u001b[0m\n\u001b[0;32m--> 106\u001b[0;31m         \u001b[0;32mraise\u001b[0m \u001b[0mMessageError\u001b[0m\u001b[0;34m(\u001b[0m\u001b[0mreply\u001b[0m\u001b[0;34m[\u001b[0m\u001b[0;34m'error'\u001b[0m\u001b[0;34m]\u001b[0m\u001b[0;34m)\u001b[0m\u001b[0;34m\u001b[0m\u001b[0;34m\u001b[0m\u001b[0m\n\u001b[0m\u001b[1;32m    107\u001b[0m       \u001b[0;32mreturn\u001b[0m \u001b[0mreply\u001b[0m\u001b[0;34m.\u001b[0m\u001b[0mget\u001b[0m\u001b[0;34m(\u001b[0m\u001b[0;34m'data'\u001b[0m\u001b[0;34m,\u001b[0m \u001b[0;32mNone\u001b[0m\u001b[0;34m)\u001b[0m\u001b[0;34m\u001b[0m\u001b[0;34m\u001b[0m\u001b[0m\n\u001b[1;32m    108\u001b[0m \u001b[0;34m\u001b[0m\u001b[0m\n",
            "\u001b[0;31mMessageError\u001b[0m: TypeError: Failed to fetch"
          ]
        }
      ]
    },
    {
      "cell_type": "code",
      "metadata": {
        "id": "Py-IxJXJF5_J",
        "colab_type": "code",
        "colab": {}
      },
      "source": [
        ""
      ],
      "execution_count": 0,
      "outputs": []
    }
  ]
}