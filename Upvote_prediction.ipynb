{
  "nbformat": 4,
  "nbformat_minor": 0,
  "metadata": {
    "colab": {
      "name": "Upvote-prediction.ipynb",
      "provenance": [],
      "authorship_tag": "ABX9TyMP4XerJZbzKrgWgRlzhiuR",
      "include_colab_link": true
    },
    "kernelspec": {
      "name": "python3",
      "display_name": "Python 3"
    },
    "accelerator": "GPU"
  },
  "cells": [
    {
      "cell_type": "markdown",
      "metadata": {
        "id": "view-in-github",
        "colab_type": "text"
      },
      "source": [
        "<a href=\"https://colab.research.google.com/github/ramswaroopbhakar14/Upvotes-prediction/blob/master/Upvote_prediction.ipynb\" target=\"_parent\"><img src=\"https://colab.research.google.com/assets/colab-badge.svg\" alt=\"Open In Colab\"/></a>"
      ]
    },
    {
      "cell_type": "code",
      "metadata": {
        "id": "TwY_dAmW2SD_",
        "colab_type": "code",
        "outputId": "e1657214-0d4f-462a-f658-47e110faafcd",
        "colab": {
          "base_uri": "https://localhost:8080/",
          "height": 118
        }
      },
      "source": [
        "! git clone https://github.com/ramswaroopbhakar14/Upvotes-prediction.git"
      ],
      "execution_count": 1,
      "outputs": [
        {
          "output_type": "stream",
          "text": [
            "Cloning into 'Upvotes-prediction'...\n",
            "remote: Enumerating objects: 29, done.\u001b[K\n",
            "remote: Counting objects: 100% (29/29), done.\u001b[K\n",
            "remote: Compressing objects: 100% (27/27), done.\u001b[K\n",
            "remote: Total 29 (delta 11), reused 7 (delta 0), pack-reused 0\u001b[K\n",
            "Unpacking objects: 100% (29/29), done.\n"
          ],
          "name": "stdout"
        }
      ]
    },
    {
      "cell_type": "code",
      "metadata": {
        "id": "1uADx6GP2aQq",
        "colab_type": "code",
        "outputId": "a2791c98-66ae-43ff-bae8-ff1e87ad1453",
        "colab": {
          "base_uri": "https://localhost:8080/",
          "height": 34
        }
      },
      "source": [
        "%cd /content/Upvotes-prediction/data"
      ],
      "execution_count": 2,
      "outputs": [
        {
          "output_type": "stream",
          "text": [
            "/content/Upvotes-prediction/data\n"
          ],
          "name": "stdout"
        }
      ]
    },
    {
      "cell_type": "code",
      "metadata": {
        "id": "Nw46xyVN227P",
        "colab_type": "code",
        "colab": {}
      },
      "source": [
        "import pandas as pd\n",
        "train_data = pd.read_csv('train_data.csv')\n",
        "test_data = pd.read_csv('test_data.csv')\n",
        "\n",
        "\"creating copy of both train & test for further uses\"\n",
        "train_data1 = train_data.copy()\n",
        "test_data1 = test_data.copy()"
      ],
      "execution_count": 0,
      "outputs": []
    },
    {
      "cell_type": "code",
      "metadata": {
        "id": "wR_U690f3XQ6",
        "colab_type": "code",
        "outputId": "ccf9000d-875e-4d6b-b85a-d0cbcdc31d97",
        "colab": {
          "base_uri": "https://localhost:8080/",
          "height": 84
        }
      },
      "source": [
        "print(\"train columns:\\n\",train_data.columns)\n",
        "print(\"test columns:\\n\",test_data.columns)"
      ],
      "execution_count": 4,
      "outputs": [
        {
          "output_type": "stream",
          "text": [
            "train columns:\n",
            " Index(['ID', 'Tag', 'Reputation', 'Answers', 'Username', 'Views', 'Upvotes'], dtype='object')\n",
            "test columns:\n",
            " Index(['ID', 'Tag', 'Reputation', 'Answers', 'Username', 'Views'], dtype='object')\n"
          ],
          "name": "stdout"
        }
      ]
    },
    {
      "cell_type": "markdown",
      "metadata": {
        "id": "9xGxzoCpZDbN",
        "colab_type": "text"
      },
      "source": [
        "Print train & test head data"
      ]
    },
    {
      "cell_type": "code",
      "metadata": {
        "id": "Z1zaP2fGZGy_",
        "colab_type": "code",
        "outputId": "8fa760c0-a5bb-44c3-d2ad-6be8ef275810",
        "colab": {
          "base_uri": "https://localhost:8080/",
          "height": 252
        }
      },
      "source": [
        "print(\"train sample:\\n\",train_data.head())\n",
        "print(\"test sample:\\n\",test_data.head())"
      ],
      "execution_count": 5,
      "outputs": [
        {
          "output_type": "stream",
          "text": [
            "train sample:\n",
            "        ID Tag  Reputation  Answers  Username    Views  Upvotes\n",
            "0   52664   a      3942.0      2.0    155623   7855.0     42.0\n",
            "1  327662   a     26046.0     12.0     21781  55801.0   1175.0\n",
            "2  468453   c      1358.0      4.0     56177   8067.0     60.0\n",
            "3   96996   a       264.0      3.0    168793  27064.0      9.0\n",
            "4  131465   c      4271.0      4.0    112223  13986.0     83.0\n",
            "test sample:\n",
            "        ID Tag  Reputation  Answers  Username    Views\n",
            "0  366953   a      5645.0      3.0     50652  33200.0\n",
            "1   71864   c     24511.0      6.0     37685   2730.0\n",
            "2  141692   i       927.0      1.0    135293  21167.0\n",
            "3  316833   i        21.0      6.0    166998  18528.0\n",
            "4  440445   i      4475.0     10.0     53504  57240.0\n"
          ],
          "name": "stdout"
        }
      ]
    },
    {
      "cell_type": "markdown",
      "metadata": {
        "id": "PZFRxbbTZf2i",
        "colab_type": "text"
      },
      "source": [
        "dropping non-important features"
      ]
    },
    {
      "cell_type": "code",
      "metadata": {
        "id": "FTiHlbFWZitr",
        "colab_type": "code",
        "colab": {}
      },
      "source": [
        "train_data = train_data1.drop(columns=['ID','Username'])\n",
        "test_data = test_data1.drop(columns=['ID','Username'])"
      ],
      "execution_count": 0,
      "outputs": []
    },
    {
      "cell_type": "code",
      "metadata": {
        "id": "CmTxqz_S3btn",
        "colab_type": "code",
        "outputId": "8ebeb442-6325-4fb7-c002-0e602aadbf2a",
        "colab": {
          "base_uri": "https://localhost:8080/",
          "height": 646
        }
      },
      "source": [
        "import seaborn as sns\n",
        "import matplotlib.pyplot as plt\n",
        "plt.figure()\n",
        "plt.title(\"corr-heat-map for train data\")\n",
        "\"find correlation matrix\"\n",
        "train_corr = train_data.corr()\n",
        "\"generating heatmap using train_corr\"\n",
        "sns.heatmap(train_corr) # we don't see any var-pair haivng > 0.5 correlation, hence we'll be directly going for model building\n",
        "\n",
        "plt.figure()\n",
        "plt.title(\"\\n\\ncorr-heat-map for test data\")\n",
        "\"find correlation matrix for test data\"\n",
        "test_corr = test_data.corr()\n",
        "\"generating heatmap using test_corr\"\n",
        "sns.heatmap(test_corr) "
      ],
      "execution_count": 7,
      "outputs": [
        {
          "output_type": "stream",
          "text": [
            "/usr/local/lib/python3.6/dist-packages/statsmodels/tools/_testing.py:19: FutureWarning: pandas.util.testing is deprecated. Use the functions in the public API at pandas.testing instead.\n",
            "  import pandas.util.testing as tm\n"
          ],
          "name": "stderr"
        },
        {
          "output_type": "execute_result",
          "data": {
            "text/plain": [
              "<matplotlib.axes._subplots.AxesSubplot at 0x7f7410816320>"
            ]
          },
          "metadata": {
            "tags": []
          },
          "execution_count": 7
        },
        {
          "output_type": "display_data",
          "data": {
            "image/png": "[encoded data removed]",
            "text/plain": [
              "<Figure size 432x288 with 2 Axes>"
            ]
          },
          "metadata": {
            "tags": [],
            "needs_background": "light"
          }
        },
        {
          "output_type": "display_data",
          "data": {
            "image/png": "[encoded data removed]",
            "text/plain": [
              "<Figure size 432x288 with 2 Axes>"
            ]
          },
          "metadata": {
            "tags": [],
            "needs_background": "light"
          }
        }
      ]
    },
    {
      "cell_type": "markdown",
      "metadata": {
        "id": "XX5ohJqyalfK",
        "colab_type": "text"
      },
      "source": [
        "Converting car=tegorical to numerical features ('Tag')"
      ]
    },
    {
      "cell_type": "code",
      "metadata": {
        "id": "udbcDvsjaqwq",
        "colab_type": "code",
        "colab": {}
      },
      "source": [
        "\"Dealing with categorical features in a regression problem\"\n",
        "\n",
        "\"First approach: to convert each category as sdummy variables\"\n",
        "#train_data = pd.concat([train_data.loc[:, train_data.columns!='Tag'], pd.get_dummies(train_data[['Tag']])], axis=1)\n",
        "#test_data = pd.concat([test_data.loc[:, test_data.columns!='Tag'], pd.get_dummies(test_data[['Tag']])], axis=1)\n",
        "\n",
        "\"Second approach: to convert each category as a numerical label\"\n",
        "from sklearn.preprocessing import LabelEncoder\n",
        "le = LabelEncoder()\n",
        "le.fit(train_data['Tag']) # fitting label encoder for 'Tag'\n",
        "train_data['Tag'] = le.transform(train_data['Tag']) # label transforming 'Tag' for train_data\n",
        "test_data['Tag'] = le.transform(test_data['Tag']) # label transforming 'Tag' for test_data"
      ],
      "execution_count": 0,
      "outputs": []
    },
    {
      "cell_type": "code",
      "metadata": {
        "id": "GNQV1D_abPHG",
        "colab_type": "code",
        "outputId": "7a4725f9-bc7c-4bf2-994a-100dd84b192b",
        "colab": {
          "base_uri": "https://localhost:8080/",
          "height": 84
        }
      },
      "source": [
        "print(\"train columns:\\n\",train_data.columns)\n",
        "print(\"test columns:\\n\",test_data.columns)"
      ],
      "execution_count": 41,
      "outputs": [
        {
          "output_type": "stream",
          "text": [
            "train columns:\n",
            " Index(['Tag', 'Reputation', 'Answers', 'Views', 'Upvotes'], dtype='object')\n",
            "test columns:\n",
            " Index(['Tag', 'Reputation', 'Answers', 'Views'], dtype='object')\n"
          ],
          "name": "stdout"
        }
      ]
    },
    {
      "cell_type": "code",
      "metadata": {
        "id": "mEZucoCDEoYw",
        "colab_type": "code",
        "colab": {
          "base_uri": "https://localhost:8080/",
          "height": 218
        },
        "outputId": "4046def4-f694-42b1-e7ef-6f13646d1537"
      },
      "source": [
        "print(train_data.head())\n",
        "print(test_data.head())"
      ],
      "execution_count": 42,
      "outputs": [
        {
          "output_type": "stream",
          "text": [
            "   Tag  Reputation  Answers    Views  Upvotes\n",
            "0    0      3942.0      2.0   7855.0     42.0\n",
            "1    0     26046.0     12.0  55801.0   1175.0\n",
            "2    1      1358.0      4.0   8067.0     60.0\n",
            "3    0       264.0      3.0  27064.0      9.0\n",
            "4    1      4271.0      4.0  13986.0     83.0\n",
            "   Tag  Reputation  Answers    Views\n",
            "0    0      5645.0      3.0  33200.0\n",
            "1    1     24511.0      6.0   2730.0\n",
            "2    3       927.0      1.0  21167.0\n",
            "3    3        21.0      6.0  18528.0\n",
            "4    3      4475.0     10.0  57240.0\n"
          ],
          "name": "stdout"
        }
      ]
    },
    {
      "cell_type": "code",
      "metadata": {
        "id": "kEYKeXJb3Y3b",
        "colab_type": "code",
        "outputId": "7d274c9e-9614-4538-a02a-e5d864979872",
        "colab": {
          "base_uri": "https://localhost:8080/",
          "height": 353
        }
      },
      "source": [
        "\"data pre-processing\"\n",
        "train_summary = train_data.describe()\n",
        "test_summary = test_data.describe()\n",
        "\n",
        "print(train_summary)\n",
        "print(test_summary)\n",
        "\n",
        "\"missing data summary\"\n",
        "summary_na_train= [train_data[x].isna().sum() for x in train_data.columns] # we don't have any nan values in this data\n",
        "summary_na_test= [test_data[x].isna().sum() for x in test_data.columns] # we don't have any nan values in this data\n",
        "\n",
        "print(summary_na_train)\n",
        "print(summary_na_test)"
      ],
      "execution_count": 43,
      "outputs": [
        {
          "output_type": "stream",
          "text": [
            "                Tag    Reputation        Answers         Views        Upvotes\n",
            "count  330045.00000  3.300450e+05  330045.000000  3.300450e+05  330045.000000\n",
            "mean        3.54305  7.773147e+03       3.917672  2.964507e+04     337.505358\n",
            "std         2.49392  2.706141e+04       3.579515  8.095646e+04    3592.441135\n",
            "min         0.00000  0.000000e+00       0.000000  9.000000e+00       0.000000\n",
            "25%         1.00000  2.820000e+02       2.000000  2.594000e+03       8.000000\n",
            "50%         4.00000  1.236000e+03       3.000000  8.954000e+03      28.000000\n",
            "75%         6.00000  5.118000e+03       5.000000  2.687000e+04     107.000000\n",
            "max         9.00000  1.042428e+06      76.000000  5.231058e+06  615278.000000\n",
            "                 Tag    Reputation        Answers         Views\n",
            "count  141448.000000  1.414480e+05  141448.000000  1.414480e+05\n",
            "mean        3.552542  7.920927e+03       3.914873  2.984633e+04\n",
            "std         2.494553  2.791072e+04       3.577460  8.034374e+04\n",
            "min         0.000000  0.000000e+00       0.000000  9.000000e+00\n",
            "25%         1.000000  2.860000e+02       2.000000  2.608000e+03\n",
            "50%         4.000000  1.245000e+03       3.000000  8.977000e+03\n",
            "75%         6.000000  5.123000e+03       5.000000  2.698925e+04\n",
            "max         9.000000  1.042428e+06      73.000000  5.004669e+06\n",
            "[0, 0, 0, 0, 0]\n",
            "[0, 0, 0, 0]\n"
          ],
          "name": "stdout"
        }
      ]
    },
    {
      "cell_type": "markdown",
      "metadata": {
        "id": "IXJrSk4b8IzD",
        "colab_type": "text"
      },
      "source": [
        "Generating some discrete features from continuous features"
      ]
    },
    {
      "cell_type": "code",
      "metadata": {
        "id": "S4Dyu0WQJk1h",
        "colab_type": "code",
        "colab": {}
      },
      "source": [
        "from sklearn.preprocessing import Binarizer\n",
        "\n",
        "#for 'Reputation'\n",
        "bn_repu = Binarizer(threshold=1e4)\n",
        "repu_train = bn_repu.transform([train_data['Reputation']])[0]\n",
        "train_data['Repu_grade'] = repu_train\n",
        "repu_test = bn_repu.transform([test_data['Reputation']])[0]\n",
        "test_data['Repu_grade'] = repu_test\n",
        "\n",
        "#for 'Answers'\n",
        "bn_ans = Binarizer(threshold=7)\n",
        "ans_train = bn_ans.transform([train_data['Answers']])[0]\n",
        "train_data['Answer_grade'] = ans_train\n",
        "ans_test = bn_ans.transform([test_data['Answers']])[0]\n",
        "test_data['Answer_grade'] = ans_test\n",
        "\n",
        "#for 'Views'\n",
        "bn_view = Binarizer(threshold=3e4)\n",
        "view_train = bn_view.transform([train_data['Views']])[0]\n",
        "train_data['View_grade'] = view_train\n",
        "view_test = bn_view.transform([test_data['Views']])[0]\n",
        "test_data['View_grade'] = view_test"
      ],
      "execution_count": 0,
      "outputs": []
    },
    {
      "cell_type": "markdown",
      "metadata": {
        "id": "NETdyhpYooC2",
        "colab_type": "text"
      },
      "source": [
        "Box-plots of train-test data & data selection"
      ]
    },
    {
      "cell_type": "code",
      "metadata": {
        "id": "J78SEH4uouxu",
        "colab_type": "code",
        "colab": {
          "base_uri": "https://localhost:8080/",
          "height": 620
        },
        "outputId": "b18ee055-b65f-47f1-89d5-57359c362419"
      },
      "source": [
        "\"train box-plot\"\n",
        "plt.figure(figsize=[16,10])\n",
        "train_data.boxplot()"
      ],
      "execution_count": 45,
      "outputs": [
        {
          "output_type": "execute_result",
          "data": {
            "text/plain": [
              "<matplotlib.axes._subplots.AxesSubplot at 0x7f73fd5ef160>"
            ]
          },
          "metadata": {
            "tags": []
          },
          "execution_count": 45
        },
        {
          "output_type": "display_data",
          "data": {
            "image/png": "[encoded data removed]",
            "text/plain": [
              "<Figure size 1152x720 with 1 Axes>"
            ]
          },
          "metadata": {
            "tags": [],
            "needs_background": "light"
          }
        }
      ]
    },
    {
      "cell_type": "code",
      "metadata": {
        "id": "oJpG70Pzpe1O",
        "colab_type": "code",
        "colab": {
          "base_uri": "https://localhost:8080/",
          "height": 620
        },
        "outputId": "59c5cbae-34fe-4316-a2e1-0335b9c632ba"
      },
      "source": [
        "\"test box-plot\"\n",
        "plt.figure(figsize=[16,10])\n",
        "test_data.boxplot()"
      ],
      "execution_count": 46,
      "outputs": [
        {
          "output_type": "execute_result",
          "data": {
            "text/plain": [
              "<matplotlib.axes._subplots.AxesSubplot at 0x7f73fd5cdcc0>"
            ]
          },
          "metadata": {
            "tags": []
          },
          "execution_count": 46
        },
        {
          "output_type": "display_data",
          "data": {
            "image/png": "[encoded data removed]",
            "text/plain": [
              "<Figure size 1152x720 with 1 Axes>"
            ]
          },
          "metadata": {
            "tags": [],
            "needs_background": "light"
          }
        }
      ]
    },
    {
      "cell_type": "markdown",
      "metadata": {
        "id": "vM9brzGFq_Pw",
        "colab_type": "text"
      },
      "source": [
        "treating outliers of training data for better model fitment"
      ]
    },
    {
      "cell_type": "code",
      "metadata": {
        "id": "sBAag1V1rCHe",
        "colab_type": "code",
        "colab": {
          "base_uri": "https://localhost:8080/",
          "height": 670
        },
        "outputId": "16f6bae2-0678-4344-fb27-41d62d9cab69"
      },
      "source": [
        "\"First approach: we have tried with below approach but it's not good for test data\"\n",
        "# from scipy import stats\n",
        "# \"we'll drop those values of a columns where (value>97.85th percentile of that columns) or (value<0.13 percentile of that columns)\"\n",
        "# train_data = train_data[(np.abs(stats.zscore(train_data)) < 3).all(axis=1)]\n",
        "# \"train box-plot\"\n",
        "# plt.figure(figsize=[16,10])\n",
        "# train_data.boxplot()\n",
        "\n",
        "print('train shape before outlier removal:', train_data.shape)\n",
        "\"second approach: we'll be manually removing some values which are not much observed in test data\"\n",
        "#1st: drop rows where 'Reputation' is > 1e6\"\n",
        "train_data = train_data.drop(train_data[train_data.Reputation>1e6].index).reset_index(drop=['index'])\n",
        "print('train shape after 1st outlier treatment:', train_data.shape)\n",
        "\n",
        "#2nd: drop rows where 'Reputation' is > 2.5e6\"\n",
        "train_data = train_data.drop(train_data[train_data.Views>2.5*1e6].index).reset_index(drop=['index'])\n",
        "print('train shape after 1st outlier treatment:', train_data.shape)\n",
        "\n",
        "\"train box-plot after some manual outlier treatments\"\n",
        "plt.figure(figsize=[16,10])\n",
        "train_data.boxplot()"
      ],
      "execution_count": 47,
      "outputs": [
        {
          "output_type": "stream",
          "text": [
            "train shape before outlier removal: (330045, 8)\n",
            "train shape after 1st outlier treatment: (330039, 8)\n",
            "train shape after 1st outlier treatment: (330011, 8)\n"
          ],
          "name": "stdout"
        },
        {
          "output_type": "execute_result",
          "data": {
            "text/plain": [
              "<matplotlib.axes._subplots.AxesSubplot at 0x7f73fd663d68>"
            ]
          },
          "metadata": {
            "tags": []
          },
          "execution_count": 47
        },
        {
          "output_type": "display_data",
          "data": {
            "image/png": "[encoded data removed]",
            "text/plain": [
              "<Figure size 1152x720 with 1 Axes>"
            ]
          },
          "metadata": {
            "tags": [],
            "needs_background": "light"
          }
        }
      ]
    },
    {
      "cell_type": "markdown",
      "metadata": {
        "id": "ss8eaXAtaFJj",
        "colab_type": "text"
      },
      "source": [
        "Feature standardization scaling"
      ]
    },
    {
      "cell_type": "code",
      "metadata": {
        "id": "GhgOfUOVZBhU",
        "colab_type": "code",
        "colab": {}
      },
      "source": [
        "from sklearn.preprocessing import StandardScaler\n",
        "\"fitting & transforming on train data\"\n",
        "sc_fit = StandardScaler().fit(train_data.iloc[:, train_data.columns!='Upvotes'].values)\n",
        "train_input_scaled = sc_fit.transform(train_data.iloc[:, train_data.columns!='Upvotes'].values)\n",
        "\"transforming on test data\"\n",
        "test_input_scaled = sc_fit.transform(test_data.values)"
      ],
      "execution_count": 0,
      "outputs": []
    },
    {
      "cell_type": "code",
      "metadata": {
        "id": "YluSLvPqhMj-",
        "colab_type": "code",
        "outputId": "22a207fa-50c4-43cc-ccf2-276b7c8b9a4c",
        "colab": {
          "base_uri": "https://localhost:8080/",
          "height": 185
        }
      },
      "source": [
        "print('scaled train data inputs:\\n',train_input_scaled[:2])\n",
        "print('scaled test data inputs:\\n',test_input_scaled[:2])"
      ],
      "execution_count": 49,
      "outputs": [
        {
          "output_type": "stream",
          "text": [
            "scaled train data inputs:\n",
            " [[-1.42066933 -0.14273714 -0.53658222 -0.28670098 -0.42553299 -0.34495825\n",
            "  -0.54383485]\n",
            " [-1.42066933  0.68513886  2.26474908  0.35212432  2.34999407  2.89890156\n",
            "   1.83879353]]\n",
            "scaled test data inputs:\n",
            " [[-1.42066933 -0.07895353 -0.25644909  0.05099199 -0.42553299 -0.34495825\n",
            "   1.83879353]\n",
            " [-1.01969596  0.62764747  0.5839503  -0.35498571  2.34999407 -0.34495825\n",
            "  -0.54383485]]\n"
          ],
          "name": "stdout"
        }
      ]
    },
    {
      "cell_type": "markdown",
      "metadata": {
        "id": "fM8Esc7KYDhi",
        "colab_type": "text"
      },
      "source": [
        "Standard scaling of datasets"
      ]
    },
    {
      "cell_type": "code",
      "metadata": {
        "id": "316SX55839_w",
        "colab_type": "code",
        "colab": {}
      },
      "source": [
        "\"splitting train-test data\"\n",
        "from sklearn.model_selection import train_test_split\n",
        "\n",
        "\n",
        "input_features = train_input_scaled\n",
        "target = train_data['Upvotes'].values\n",
        "\n",
        "X_train, X_val, y_train, y_val = train_test_split(input_features, target, test_size=0.1, random_state=10)\n",
        "\n",
        "\n",
        "\"ML models\"\n",
        "# we'll try 6 different models to get best model with best hyper-parameters\n",
        "# will use gridsearchcv o randomizedsearchcv for parameter optimization\n",
        "import numpy as np\n",
        "from sklearn.preprocessing import PolynomialFeatures\n",
        "from sklearn.neighbors import KNeighborsRegressor\n",
        "from sklearn.ensemble import RandomForestRegressor\n",
        "from sklearn.linear_model import LassoLars, Ridge, Lasso\n",
        "from xgboost import XGBRegressor\n",
        "from sklearn.svm import SVR\n",
        "\n",
        "poly = PolynomialFeatures(4)\n",
        "\n",
        "lrr = Ridge()\n",
        "llr1 = Lasso()\n",
        "llr = LassoLars()\n",
        "knn = KNeighborsRegressor()\n",
        "rfr = RandomForestRegressor()\n",
        "xgbr = XGBRegressor()\n",
        "svr = SVR()\n",
        "\n",
        "from sklearn.model_selection import GridSearchCV, RandomizedSearchCV\n",
        "from sklearn.metrics import mean_squared_error as mse\n",
        "\n",
        "algos = [lrr, llr1, llr, knn, svr, rfr, xgbr]\n",
        "grid_params = {lrr: {'alpha':[0,0.005,0.01,0.02,0.03,0.04,0.05,0.06,0.07,0.1,0.2,0.5,1,2,5,10]},\n",
        "                llr1: {'alpha':[0,0.005,0.01,0.02,0.03,0.04,0.05,0.06,0.07,0.1,0.2,0.5,1,2,5,10]},\n",
        "                 llr: {'alpha':[0,0.005,0.01,0.02,0.03,0.04,0.05,0.06,0.07,0.08, 0.09,0.1,0.15,0.2,0.25,0.3,0.35,0.4,0.45,0.5,1,2,5,10]},\n",
        "                 knn:{'n_neighbors':[1,3,5,11,15,17,20,30,40,50,70],'weights':['uniform','distance'],'metric':['euclidean','manhattan']},\n",
        "                 svr:{'C': [0.1, 1, 10, 100, 1000],'epsilon': [0.0001, 0.0005, 0.001, 0.005, 0.01, 0.05, 0.1, 0.5, 1, 5, 10],\n",
        "                         'gamma': [1, 0.1, 0.01, 0.001, 0.0001],'kernel': ['linear', 'poly', 'rbf', 'sigmoid']},\n",
        "                  rfr: {'n_estimators': [int(x) for x in np.linspace(start = 10, stop = 200, num = 10)],# Number of trees in random forest\n",
        "                                                 'max_features': ['auto', 'sqrt',None],# Number of features to consider at every split\n",
        "                                                 'max_depth': [int(x) for x in np.linspace(10, 110, num = 11)]+[None],# Maximum number of levels in tree\n",
        "                                                 'min_samples_split': [2, 5, 10],# Minimum number of samples required to split a node\n",
        "                                                 'min_samples_leaf': [1, 2, 4],# Minimum number of samples required at each leaf node\n",
        "                                                 'bootstrap': [True, False]},# Method of selecting samples for training each tree\n",
        "                 xgbr:{'eta':[0.1,0.3,0.5,0.7],'gamma':[0,10,100],'max_depth':[1,3,5,9,11]}}                                     \n"
      ],
      "execution_count": 0,
      "outputs": []
    },
    {
      "cell_type": "code",
      "metadata": {
        "id": "yPalF-5ZQz7_",
        "colab_type": "code",
        "colab": {
          "base_uri": "https://localhost:8080/",
          "height": 134
        },
        "outputId": "8a016f27-9201-42f8-8f3f-b17aa82f140e"
      },
      "source": [
        "xgbr.get_params"
      ],
      "execution_count": 58,
      "outputs": [
        {
          "output_type": "execute_result",
          "data": {
            "text/plain": [
              "<bound method XGBModel.get_params of XGBRegressor(base_score=0.5, booster='gbtree', colsample_bylevel=1,\n",
              "             colsample_bynode=1, colsample_bytree=1, gamma=0,\n",
              "             importance_type='gain', learning_rate=0.1, max_delta_step=0,\n",
              "             max_depth=3, min_child_weight=1, missing=None, n_estimators=100,\n",
              "             n_jobs=1, nthread=None, objective='reg:linear', random_state=0,\n",
              "             reg_alpha=0, reg_lambda=1, scale_pos_weight=1, seed=None,\n",
              "             silent=None, subsample=1, verbosity=1)>"
            ]
          },
          "metadata": {
            "tags": []
          },
          "execution_count": 58
        }
      ]
    },
    {
      "cell_type": "code",
      "metadata": {
        "id": "YeIvC8Q34D2L",
        "colab_type": "code",
        "outputId": "35363666-f357-415d-c6ed-f81954497d05",
        "colab": {
          "base_uri": "https://localhost:8080/",
          "height": 121
        }
      },
      "source": [
        "#%%\n",
        "import time\n",
        "scoring='neg_mean_squared_error'\n",
        "cv_results_list = []\n",
        "best_params_list = []\n",
        "best_cv_rmse_list = []\n",
        "val_rmse_list = []\n",
        "train_time_list = []\n",
        "for algo in algos[-1:]:\n",
        "    num_iter = 2\n",
        "    st = time.time()\n",
        "#    model = GridSearchCV(knn, grid_params[knn], n_jobs=-1, scoring=scoring) # not performing gridsearchcv as it takes lot time\n",
        "    total_param_combinations = np.prod([len(grid_params[algo][par]) for par in list(grid_params[algo].keys())])\n",
        "    print(\"train param, combinations:\\n\",total_param_combinations)\n",
        "    \n",
        "    if (algo==llr) | (algo==lrr) | (algo==llr1):\n",
        "        X_train1 = poly.fit_transform(X_train)\n",
        "        model = GridSearchCV(estimator=algo, cv=3, scoring=scoring,n_jobs=-1, param_grid=grid_params[algo], refit=True)\n",
        "        model.fit(X_train1, y_train)\n",
        "    elif (algo==xgbr):\n",
        "        model = XGBRegressor()\n",
        "        model.fit(X_train, y_train)\n",
        "    else:\n",
        "        model = RandomizedSearchCV(estimator=algo, n_iter=num_iter, cv=3, scoring=scoring,n_jobs=-1, param_distributions=grid_params[algo], refit=True)\n",
        "        model.fit(X_train, y_train)\n",
        "    \n",
        "    \n",
        "    cv_results_list+=[model.cv_results_]\n",
        "    \n",
        "    best_cv_rmse1 = np.sqrt(-max(model.cv_results_['mean_test_score']))\n",
        "    best_cv_rmse_list+=[best_cv_rmse1]\n",
        "    \n",
        "    best_params_list+=[model.best_params_]\n",
        "    \n",
        "    train_time1 = str(round(time.time()-st,2))+' seconds'\n",
        "    train_time_list+=[train_time1]\n",
        "    if (algo==llr) | (algo==lrr) | (algo==llr1):\n",
        "        X_val1 = poly.transform(X_val)\n",
        "        y_pred = model.predict(X_val1)\n",
        "    else:\n",
        "        y_pred = model.predict(X_val)\n",
        "    \n",
        "    rmse1 = np.sqrt(mse(y_val,y_pred))\n",
        "        \n",
        "    val_rmse_list+=[rmse1]\n",
        "    \n",
        "    print('total_cv_time:',train_time1)\n",
        "    print('avg_cv_rmse:',best_cv_rmse1)\n",
        "    \n",
        "    print('val_rmse:', rmse1)\n",
        "\n",
        "    print(\"best params\", best_params_list[-1])"
      ],
      "execution_count": 59,
      "outputs": [
        {
          "output_type": "stream",
          "text": [
            "train param, combinations:\n",
            " 60\n",
            "[18:49:53] WARNING: /workspace/src/objective/regression_obj.cu:152: reg:linear is now deprecated in favor of reg:squarederror.\n",
            "total_cv_time: 8.69 seconds\n",
            "val_rmse: 1435.8436020173715\n"
          ],
          "name": "stdout"
        }
      ]
    },
    {
      "cell_type": "markdown",
      "metadata": {
        "id": "QMrb6UQ_kkki",
        "colab_type": "text"
      },
      "source": [
        "prediction on test data"
      ]
    },
    {
      "cell_type": "code",
      "metadata": {
        "id": "6pLWy-Dxkn0l",
        "colab_type": "code",
        "colab": {
          "base_uri": "https://localhost:8080/",
          "height": 67
        },
        "outputId": "d8440dce-bb2b-4be7-eb6e-807690d166a6"
      },
      "source": [
        "test_data.columns"
      ],
      "execution_count": 52,
      "outputs": [
        {
          "output_type": "execute_result",
          "data": {
            "text/plain": [
              "Index(['Tag', 'Reputation', 'Answers', 'Views', 'Repu_grade', 'Answer_grade',\n",
              "       'View_grade'],\n",
              "      dtype='object')"
            ]
          },
          "metadata": {
            "tags": []
          },
          "execution_count": 52
        }
      ]
    },
    {
      "cell_type": "code",
      "metadata": {
        "id": "VPlNs3pVEyUv",
        "colab_type": "code",
        "colab": {}
      },
      "source": [
        "X_test = test_input_scaled\n",
        "if algo==llr:\n",
        "  X_test1 = poly.transform(X_test)\n",
        "  final_pred = model.predict(X_test1)\n",
        "else:  \n",
        "  final_pred = model.predict(X_test)\n",
        "final_submission = pd.DataFrame({'ID':list(test_data1.ID),'Upvotes':list(final_pred)})"
      ],
      "execution_count": 0,
      "outputs": []
    },
    {
      "cell_type": "code",
      "metadata": {
        "id": "LLB41omNFOZq",
        "colab_type": "code",
        "colab": {}
      },
      "source": [
        "final_submission.to_csv('upvotes_8th_submission_llr4_20_outlier_treatmet_manual.csv', index=False)"
      ],
      "execution_count": 0,
      "outputs": []
    },
    {
      "cell_type": "code",
      "metadata": {
        "id": "f1Zwr_gXtqUO",
        "colab_type": "code",
        "colab": {}
      },
      "source": [
        ""
      ],
      "execution_count": 0,
      "outputs": []
    }
  ]
}